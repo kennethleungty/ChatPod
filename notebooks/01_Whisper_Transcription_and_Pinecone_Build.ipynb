{
  "nbformat": 4,
  "nbformat_minor": 0,
  "metadata": {
    "colab": {
      "provenance": []
    },
    "kernelspec": {
      "name": "python3",
      "display_name": "Python 3"
    },
    "language_info": {
      "name": "python"
    },
    "accelerator": "GPU",
    "gpuClass": "standard"
  },
  "cells": [
    {
      "cell_type": "markdown",
      "source": [
        "# Chat Podcast"
      ],
      "metadata": {
        "id": "rWw5wxvOseAK"
      }
    },
    {
      "cell_type": "markdown",
      "source": [
        "### Mount Drive in Colab"
      ],
      "metadata": {
        "id": "NylBITtPsg6d"
      }
    },
    {
      "cell_type": "code",
      "source": [
        "# Mount Google drive (since MP3 files are saved in Drive)\n",
        "from google.colab import drive\n",
        "drive.mount('/content/drive')"
      ],
      "metadata": {
        "colab": {
          "base_uri": "https://localhost:8080/"
        },
        "id": "AlMr2cLGrfW5",
        "outputId": "e88ac547-5549-489a-9c4e-d2978967e34d"
      },
      "execution_count": null,
      "outputs": [
        {
          "output_type": "stream",
          "name": "stdout",
          "text": [
            "Mounted at /content/drive\n"
          ]
        }
      ]
    },
    {
      "cell_type": "code",
      "source": [
        "%cd drive/MyDrive/Data Vault/GitHub/Chat-Podcast"
      ],
      "metadata": {
        "colab": {
          "base_uri": "https://localhost:8080/"
        },
        "id": "UU_qO9fery5s",
        "outputId": "25ff1ce8-355f-4e04-f978-86a069622615"
      },
      "execution_count": null,
      "outputs": [
        {
          "output_type": "stream",
          "name": "stdout",
          "text": [
            "/content/drive/MyDrive/Data Vault/GitHub/Chat-Podcast\n"
          ]
        }
      ]
    },
    {
      "cell_type": "markdown",
      "source": [
        "___\n",
        "### Install and Import Dependencies"
      ],
      "metadata": {
        "id": "kxYp1BiVskb8"
      }
    },
    {
      "cell_type": "code",
      "execution_count": null,
      "metadata": {
        "colab": {
          "base_uri": "https://localhost:8080/"
        },
        "id": "uXjWEkuQoJMA",
        "outputId": "35c98085-29a1-40b5-9ab7-4e4a62a0ea21"
      },
      "outputs": [
        {
          "output_type": "stream",
          "name": "stdout",
          "text": [
            "Looking in indexes: https://pypi.org/simple, https://us-python.pkg.dev/colab-wheels/public/simple/\n",
            "Requirement already satisfied: langchain in /usr/local/lib/python3.9/dist-packages (0.0.127)\n",
            "Requirement already satisfied: SQLAlchemy<2,>=1 in /usr/local/lib/python3.9/dist-packages (from langchain) (1.4.47)\n",
            "Requirement already satisfied: pydantic<2,>=1 in /usr/local/lib/python3.9/dist-packages (from langchain) (1.10.7)\n",
            "Requirement already satisfied: tenacity<9.0.0,>=8.1.0 in /usr/local/lib/python3.9/dist-packages (from langchain) (8.2.2)\n",
            "Requirement already satisfied: requests<3,>=2 in /usr/local/lib/python3.9/dist-packages (from langchain) (2.27.1)\n",
            "Requirement already satisfied: PyYAML>=5.4.1 in /usr/local/lib/python3.9/dist-packages (from langchain) (6.0)\n",
            "Requirement already satisfied: numpy<2,>=1 in /usr/local/lib/python3.9/dist-packages (from langchain) (1.22.4)\n",
            "Requirement already satisfied: aiohttp<4.0.0,>=3.8.3 in /usr/local/lib/python3.9/dist-packages (from langchain) (3.8.4)\n",
            "Requirement already satisfied: dataclasses-json<0.6.0,>=0.5.7 in /usr/local/lib/python3.9/dist-packages (from langchain) (0.5.7)\n",
            "Requirement already satisfied: multidict<7.0,>=4.5 in /usr/local/lib/python3.9/dist-packages (from aiohttp<4.0.0,>=3.8.3->langchain) (6.0.4)\n",
            "Requirement already satisfied: attrs>=17.3.0 in /usr/local/lib/python3.9/dist-packages (from aiohttp<4.0.0,>=3.8.3->langchain) (22.2.0)\n",
            "Requirement already satisfied: async-timeout<5.0,>=4.0.0a3 in /usr/local/lib/python3.9/dist-packages (from aiohttp<4.0.0,>=3.8.3->langchain) (4.0.2)\n",
            "Requirement already satisfied: yarl<2.0,>=1.0 in /usr/local/lib/python3.9/dist-packages (from aiohttp<4.0.0,>=3.8.3->langchain) (1.8.2)\n",
            "Requirement already satisfied: charset-normalizer<4.0,>=2.0 in /usr/local/lib/python3.9/dist-packages (from aiohttp<4.0.0,>=3.8.3->langchain) (2.0.12)\n",
            "Requirement already satisfied: frozenlist>=1.1.1 in /usr/local/lib/python3.9/dist-packages (from aiohttp<4.0.0,>=3.8.3->langchain) (1.3.3)\n",
            "Requirement already satisfied: aiosignal>=1.1.2 in /usr/local/lib/python3.9/dist-packages (from aiohttp<4.0.0,>=3.8.3->langchain) (1.3.1)\n",
            "Requirement already satisfied: typing-inspect>=0.4.0 in /usr/local/lib/python3.9/dist-packages (from dataclasses-json<0.6.0,>=0.5.7->langchain) (0.8.0)\n",
            "Requirement already satisfied: marshmallow-enum<2.0.0,>=1.5.1 in /usr/local/lib/python3.9/dist-packages (from dataclasses-json<0.6.0,>=0.5.7->langchain) (1.5.1)\n",
            "Requirement already satisfied: marshmallow<4.0.0,>=3.3.0 in /usr/local/lib/python3.9/dist-packages (from dataclasses-json<0.6.0,>=0.5.7->langchain) (3.19.0)\n",
            "Requirement already satisfied: typing-extensions>=4.2.0 in /usr/local/lib/python3.9/dist-packages (from pydantic<2,>=1->langchain) (4.5.0)\n",
            "Requirement already satisfied: idna<4,>=2.5 in /usr/local/lib/python3.9/dist-packages (from requests<3,>=2->langchain) (3.4)\n",
            "Requirement already satisfied: urllib3<1.27,>=1.21.1 in /usr/local/lib/python3.9/dist-packages (from requests<3,>=2->langchain) (1.26.15)\n",
            "Requirement already satisfied: certifi>=2017.4.17 in /usr/local/lib/python3.9/dist-packages (from requests<3,>=2->langchain) (2022.12.7)\n",
            "Requirement already satisfied: greenlet!=0.4.17 in /usr/local/lib/python3.9/dist-packages (from SQLAlchemy<2,>=1->langchain) (2.0.2)\n",
            "Requirement already satisfied: packaging>=17.0 in /usr/local/lib/python3.9/dist-packages (from marshmallow<4.0.0,>=3.3.0->dataclasses-json<0.6.0,>=0.5.7->langchain) (23.0)\n",
            "Requirement already satisfied: mypy-extensions>=0.3.0 in /usr/local/lib/python3.9/dist-packages (from typing-inspect>=0.4.0->dataclasses-json<0.6.0,>=0.5.7->langchain) (1.0.0)\n",
            "Looking in indexes: https://pypi.org/simple, https://us-python.pkg.dev/colab-wheels/public/simple/\n",
            "Requirement already satisfied: openai in /usr/local/lib/python3.9/dist-packages (0.27.2)\n",
            "Requirement already satisfied: aiohttp in /usr/local/lib/python3.9/dist-packages (from openai) (3.8.4)\n",
            "Requirement already satisfied: tqdm in /usr/local/lib/python3.9/dist-packages (from openai) (4.65.0)\n",
            "Requirement already satisfied: requests>=2.20 in /usr/local/lib/python3.9/dist-packages (from openai) (2.27.1)\n",
            "Requirement already satisfied: urllib3<1.27,>=1.21.1 in /usr/local/lib/python3.9/dist-packages (from requests>=2.20->openai) (1.26.15)\n",
            "Requirement already satisfied: certifi>=2017.4.17 in /usr/local/lib/python3.9/dist-packages (from requests>=2.20->openai) (2022.12.7)\n",
            "Requirement already satisfied: idna<4,>=2.5 in /usr/local/lib/python3.9/dist-packages (from requests>=2.20->openai) (3.4)\n",
            "Requirement already satisfied: charset-normalizer~=2.0.0 in /usr/local/lib/python3.9/dist-packages (from requests>=2.20->openai) (2.0.12)\n",
            "Requirement already satisfied: frozenlist>=1.1.1 in /usr/local/lib/python3.9/dist-packages (from aiohttp->openai) (1.3.3)\n",
            "Requirement already satisfied: aiosignal>=1.1.2 in /usr/local/lib/python3.9/dist-packages (from aiohttp->openai) (1.3.1)\n",
            "Requirement already satisfied: multidict<7.0,>=4.5 in /usr/local/lib/python3.9/dist-packages (from aiohttp->openai) (6.0.4)\n",
            "Requirement already satisfied: yarl<2.0,>=1.0 in /usr/local/lib/python3.9/dist-packages (from aiohttp->openai) (1.8.2)\n",
            "Requirement already satisfied: async-timeout<5.0,>=4.0.0a3 in /usr/local/lib/python3.9/dist-packages (from aiohttp->openai) (4.0.2)\n",
            "Requirement already satisfied: attrs>=17.3.0 in /usr/local/lib/python3.9/dist-packages (from aiohttp->openai) (22.2.0)\n",
            "Looking in indexes: https://pypi.org/simple, https://us-python.pkg.dev/colab-wheels/public/simple/\n",
            "Requirement already satisfied: openai-whisper in /usr/local/lib/python3.9/dist-packages (20230314)\n",
            "Requirement already satisfied: numba in /usr/local/lib/python3.9/dist-packages (from openai-whisper) (0.56.4)\n",
            "Requirement already satisfied: tqdm in /usr/local/lib/python3.9/dist-packages (from openai-whisper) (4.65.0)\n",
            "Requirement already satisfied: ffmpeg-python==0.2.0 in /usr/local/lib/python3.9/dist-packages (from openai-whisper) (0.2.0)\n",
            "Requirement already satisfied: torch in /usr/local/lib/python3.9/dist-packages (from openai-whisper) (1.13.1+cu116)\n",
            "Requirement already satisfied: numpy in /usr/local/lib/python3.9/dist-packages (from openai-whisper) (1.22.4)\n",
            "Requirement already satisfied: more-itertools in /usr/local/lib/python3.9/dist-packages (from openai-whisper) (9.1.0)\n",
            "Requirement already satisfied: tiktoken==0.3.1 in /usr/local/lib/python3.9/dist-packages (from openai-whisper) (0.3.1)\n",
            "Requirement already satisfied: triton==2.0.0 in /usr/local/lib/python3.9/dist-packages (from openai-whisper) (2.0.0)\n",
            "Requirement already satisfied: future in /usr/local/lib/python3.9/dist-packages (from ffmpeg-python==0.2.0->openai-whisper) (0.18.3)\n",
            "Requirement already satisfied: requests>=2.26.0 in /usr/local/lib/python3.9/dist-packages (from tiktoken==0.3.1->openai-whisper) (2.27.1)\n",
            "Requirement already satisfied: regex>=2022.1.18 in /usr/local/lib/python3.9/dist-packages (from tiktoken==0.3.1->openai-whisper) (2022.10.31)\n",
            "Requirement already satisfied: lit in /usr/local/lib/python3.9/dist-packages (from triton==2.0.0->openai-whisper) (16.0.0)\n",
            "Requirement already satisfied: cmake in /usr/local/lib/python3.9/dist-packages (from triton==2.0.0->openai-whisper) (3.25.2)\n",
            "Requirement already satisfied: filelock in /usr/local/lib/python3.9/dist-packages (from triton==2.0.0->openai-whisper) (3.10.7)\n",
            "Requirement already satisfied: setuptools in /usr/local/lib/python3.9/dist-packages (from numba->openai-whisper) (67.6.1)\n",
            "Requirement already satisfied: llvmlite<0.40,>=0.39.0dev0 in /usr/local/lib/python3.9/dist-packages (from numba->openai-whisper) (0.39.1)\n",
            "Requirement already satisfied: typing-extensions in /usr/local/lib/python3.9/dist-packages (from torch->openai-whisper) (4.5.0)\n",
            "Requirement already satisfied: urllib3<1.27,>=1.21.1 in /usr/local/lib/python3.9/dist-packages (from requests>=2.26.0->tiktoken==0.3.1->openai-whisper) (1.26.15)\n",
            "Requirement already satisfied: idna<4,>=2.5 in /usr/local/lib/python3.9/dist-packages (from requests>=2.26.0->tiktoken==0.3.1->openai-whisper) (3.4)\n",
            "Requirement already satisfied: charset-normalizer~=2.0.0 in /usr/local/lib/python3.9/dist-packages (from requests>=2.26.0->tiktoken==0.3.1->openai-whisper) (2.0.12)\n",
            "Requirement already satisfied: certifi>=2017.4.17 in /usr/local/lib/python3.9/dist-packages (from requests>=2.26.0->tiktoken==0.3.1->openai-whisper) (2022.12.7)\n",
            "Looking in indexes: https://pypi.org/simple, https://us-python.pkg.dev/colab-wheels/public/simple/\n",
            "Requirement already satisfied: python-dotenv in /usr/local/lib/python3.9/dist-packages (1.0.0)\n",
            "Looking in indexes: https://pypi.org/simple, https://us-python.pkg.dev/colab-wheels/public/simple/\n",
            "Collecting pinecone-client\n",
            "  Downloading pinecone_client-2.2.1-py3-none-any.whl (177 kB)\n",
            "\u001b[2K     \u001b[90m━━━━━━━━━━━━━━━━━━━━━━━━━━━━━━━━━━━━━━\u001b[0m \u001b[32m177.2/177.2 KB\u001b[0m \u001b[31m12.4 MB/s\u001b[0m eta \u001b[36m0:00:00\u001b[0m\n",
            "\u001b[?25hRequirement already satisfied: typing-extensions>=3.7.4 in /usr/local/lib/python3.9/dist-packages (from pinecone-client) (4.5.0)\n",
            "Requirement already satisfied: requests>=2.19.0 in /usr/local/lib/python3.9/dist-packages (from pinecone-client) (2.27.1)\n",
            "Collecting dnspython>=2.0.0\n",
            "  Downloading dnspython-2.3.0-py3-none-any.whl (283 kB)\n",
            "\u001b[2K     \u001b[90m━━━━━━━━━━━━━━━━━━━━━━━━━━━━━━━━━━━━━━\u001b[0m \u001b[32m283.7/283.7 KB\u001b[0m \u001b[31m36.7 MB/s\u001b[0m eta \u001b[36m0:00:00\u001b[0m\n",
            "\u001b[?25hRequirement already satisfied: urllib3>=1.21.1 in /usr/local/lib/python3.9/dist-packages (from pinecone-client) (1.26.15)\n",
            "Requirement already satisfied: numpy in /usr/local/lib/python3.9/dist-packages (from pinecone-client) (1.22.4)\n",
            "Requirement already satisfied: pyyaml>=5.4 in /usr/local/lib/python3.9/dist-packages (from pinecone-client) (6.0)\n",
            "Requirement already satisfied: python-dateutil>=2.5.3 in /usr/local/lib/python3.9/dist-packages (from pinecone-client) (2.8.2)\n",
            "Requirement already satisfied: tqdm>=4.64.1 in /usr/local/lib/python3.9/dist-packages (from pinecone-client) (4.65.0)\n",
            "Collecting loguru>=0.5.0\n",
            "  Downloading loguru-0.6.0-py3-none-any.whl (58 kB)\n",
            "\u001b[2K     \u001b[90m━━━━━━━━━━━━━━━━━━━━━━━━━━━━━━━━━━━━━━━━\u001b[0m \u001b[32m58.3/58.3 KB\u001b[0m \u001b[31m8.8 MB/s\u001b[0m eta \u001b[36m0:00:00\u001b[0m\n",
            "\u001b[?25hRequirement already satisfied: six>=1.5 in /usr/local/lib/python3.9/dist-packages (from python-dateutil>=2.5.3->pinecone-client) (1.16.0)\n",
            "Requirement already satisfied: charset-normalizer~=2.0.0 in /usr/local/lib/python3.9/dist-packages (from requests>=2.19.0->pinecone-client) (2.0.12)\n",
            "Requirement already satisfied: certifi>=2017.4.17 in /usr/local/lib/python3.9/dist-packages (from requests>=2.19.0->pinecone-client) (2022.12.7)\n",
            "Requirement already satisfied: idna<4,>=2.5 in /usr/local/lib/python3.9/dist-packages (from requests>=2.19.0->pinecone-client) (3.4)\n",
            "Installing collected packages: loguru, dnspython, pinecone-client\n",
            "Successfully installed dnspython-2.3.0 loguru-0.6.0 pinecone-client-2.2.1\n"
          ]
        }
      ],
      "source": [
        "!pip install langchain\n",
        "!pip install openai\n",
        "!pip install -U openai-whisper\n",
        "!pip install python-dotenv\n",
        "!pip install pinecone-client"
      ]
    },
    {
      "cell_type": "code",
      "source": [
        "import json\n",
        "import os\n",
        "import pandas as pd\n",
        "import pinecone\n",
        "import time\n",
        "import torch\n",
        "import whisper\n",
        "import yaml\n",
        "from dotenv import load_dotenv\n",
        "from pathlib import Path\n",
        "from langchain.embeddings.openai import OpenAIEmbeddings\n",
        "from langchain.vectorstores import Pinecone\n",
        "\n"
      ],
      "metadata": {
        "id": "42re6SF_pLzW"
      },
      "execution_count": 49,
      "outputs": []
    },
    {
      "cell_type": "code",
      "source": [
        "torch. __version__"
      ],
      "metadata": {
        "colab": {
          "base_uri": "https://localhost:8080/",
          "height": 36
        },
        "id": "ybGXi02qq8Vx",
        "outputId": "3879206c-6b3c-40e6-e203-caa7bbb96acb"
      },
      "execution_count": null,
      "outputs": [
        {
          "output_type": "execute_result",
          "data": {
            "text/plain": [
              "'1.13.1+cu116'"
            ],
            "application/vnd.google.colaboratory.intrinsic+json": {
              "type": "string"
            }
          },
          "metadata": {},
          "execution_count": 5
        }
      ]
    },
    {
      "cell_type": "code",
      "source": [
        "device = \"cuda\" if torch.cuda.is_available() else \"cpu\"\n",
        "device"
      ],
      "metadata": {
        "colab": {
          "base_uri": "https://localhost:8080/",
          "height": 36
        },
        "id": "FHVxuHYEqla_",
        "outputId": "7adb33b2-b6e1-45f6-9d4e-64fb74be8713"
      },
      "execution_count": null,
      "outputs": [
        {
          "output_type": "execute_result",
          "data": {
            "text/plain": [
              "'cuda'"
            ],
            "application/vnd.google.colaboratory.intrinsic+json": {
              "type": "string"
            }
          },
          "metadata": {},
          "execution_count": 6
        }
      ]
    },
    {
      "cell_type": "code",
      "source": [
        "load_dotenv(dotenv_path='.env', verbose=True)"
      ],
      "metadata": {
        "colab": {
          "base_uri": "https://localhost:8080/"
        },
        "id": "J_sP8RHlY2jv",
        "outputId": "1595cbe2-6d8e-4e58-b517-544835b7be44"
      },
      "execution_count": 50,
      "outputs": [
        {
          "output_type": "execute_result",
          "data": {
            "text/plain": [
              "True"
            ]
          },
          "metadata": {},
          "execution_count": 50
        }
      ]
    },
    {
      "cell_type": "code",
      "source": [
        "# Config settings\n",
        "DEMO_PATH = 'demo'\n",
        "AUDIO_PATH = 'audio'\n",
        "TRANSCRIPT_PATH = 'transcripts'"
      ],
      "metadata": {
        "id": "qVzJFzw_rhMQ"
      },
      "execution_count": null,
      "outputs": []
    },
    {
      "cell_type": "markdown",
      "source": [
        "___\n",
        "### Initial Demo Run"
      ],
      "metadata": {
        "id": "FPANnqPWqmF_"
      }
    },
    {
      "cell_type": "code",
      "source": [
        "whisper_model = whisper.load_model(\"medium.en\").to(device)"
      ],
      "metadata": {
        "id": "briwhNu8o82c"
      },
      "execution_count": null,
      "outputs": []
    },
    {
      "cell_type": "code",
      "source": [
        "text = whisper_model.transcribe(f\"{DEMO_PATH}/Liam Neeson - Taken.mp3\")\n",
        "text['text']"
      ],
      "metadata": {
        "colab": {
          "base_uri": "https://localhost:8080/",
          "height": 70
        },
        "id": "C2Z1HibLuC8T",
        "outputId": "8005dd3c-7b08-47af-a4ad-2040e9397d73"
      },
      "execution_count": null,
      "outputs": [
        {
          "output_type": "execute_result",
          "data": {
            "text/plain": [
              "\" I don't know who you are. I don't know what you want. If you are looking for ransom, I can tell you I don't have money. But what I do have are a very particular set of skills. Skills I have acquired over a very long career. Skills that make me a nightmare for people like you. If you let my daughter go now, that will be the end of it. I will not look for you. I will not pursue you. But if you don't, I will look for you. I will find you. And I will kill you. Good luck.\""
            ],
            "application/vnd.google.colaboratory.intrinsic+json": {
              "type": "string"
            }
          },
          "metadata": {},
          "execution_count": 13
        }
      ]
    },
    {
      "cell_type": "markdown",
      "source": [
        "___\n",
        "### Transcribe All Podcast Audio Files"
      ],
      "metadata": {
        "id": "_B3LXkKetod2"
      }
    },
    {
      "cell_type": "code",
      "source": [
        "# Read podcast metadata (saved in a CSV file)\n",
        "metadata = pd.read_csv(f'{AUDIO_PATH}/podcast_metadata.csv')"
      ],
      "metadata": {
        "id": "3cjDCFOfxtir"
      },
      "execution_count": null,
      "outputs": []
    },
    {
      "cell_type": "code",
      "source": [
        "metadata.head()"
      ],
      "metadata": {
        "colab": {
          "base_uri": "https://localhost:8080/",
          "height": 337
        },
        "id": "fKq6cTbwzdic",
        "outputId": "59164647-7b8c-4881-b542-7b76cc4d907d"
      },
      "execution_count": null,
      "outputs": [
        {
          "output_type": "execute_result",
          "data": {
            "text/plain": [
              "                                               Title  \\\n",
              "0  A Third Path to Talent Development - Delta's M...   \n",
              "1               AI in Aerospace - Boeing's Helen Lee   \n",
              "2  AI in Your Living Room - Peloton's Sanjay Nichani   \n",
              "3  Big Data in Agriculture - Land O'Lakes' Teddy ...   \n",
              "4  Choreographing Human-Machine Collaboration - S...   \n",
              "\n",
              "                                                 URL    Date  \n",
              "0  https://open.spotify.com/episode/50oRprIC6z0wJ...  Mar-23  \n",
              "1  https://open.spotify.com/episode/4jGgx7BnQqIHA...  May-22  \n",
              "2  https://open.spotify.com/episode/162i8MiLbebbI...  Mar-22  \n",
              "3  https://open.spotify.com/episode/0fOkXwX2eKORj...  Aug-22  \n",
              "4  https://open.spotify.com/episode/2YHcwnxS2bc0J...  Feb-22  "
            ],
            "text/html": [
              "\n",
              "  <div id=\"df-a16e99d7-a051-4fef-bd2f-8b490b122600\">\n",
              "    <div class=\"colab-df-container\">\n",
              "      <div>\n",
              "<style scoped>\n",
              "    .dataframe tbody tr th:only-of-type {\n",
              "        vertical-align: middle;\n",
              "    }\n",
              "\n",
              "    .dataframe tbody tr th {\n",
              "        vertical-align: top;\n",
              "    }\n",
              "\n",
              "    .dataframe thead th {\n",
              "        text-align: right;\n",
              "    }\n",
              "</style>\n",
              "<table border=\"1\" class=\"dataframe\">\n",
              "  <thead>\n",
              "    <tr style=\"text-align: right;\">\n",
              "      <th></th>\n",
              "      <th>Title</th>\n",
              "      <th>URL</th>\n",
              "      <th>Date</th>\n",
              "    </tr>\n",
              "  </thead>\n",
              "  <tbody>\n",
              "    <tr>\n",
              "      <th>0</th>\n",
              "      <td>A Third Path to Talent Development - Delta's M...</td>\n",
              "      <td>https://open.spotify.com/episode/50oRprIC6z0wJ...</td>\n",
              "      <td>Mar-23</td>\n",
              "    </tr>\n",
              "    <tr>\n",
              "      <th>1</th>\n",
              "      <td>AI in Aerospace - Boeing's Helen Lee</td>\n",
              "      <td>https://open.spotify.com/episode/4jGgx7BnQqIHA...</td>\n",
              "      <td>May-22</td>\n",
              "    </tr>\n",
              "    <tr>\n",
              "      <th>2</th>\n",
              "      <td>AI in Your Living Room - Peloton's Sanjay Nichani</td>\n",
              "      <td>https://open.spotify.com/episode/162i8MiLbebbI...</td>\n",
              "      <td>Mar-22</td>\n",
              "    </tr>\n",
              "    <tr>\n",
              "      <th>3</th>\n",
              "      <td>Big Data in Agriculture - Land O'Lakes' Teddy ...</td>\n",
              "      <td>https://open.spotify.com/episode/0fOkXwX2eKORj...</td>\n",
              "      <td>Aug-22</td>\n",
              "    </tr>\n",
              "    <tr>\n",
              "      <th>4</th>\n",
              "      <td>Choreographing Human-Machine Collaboration - S...</td>\n",
              "      <td>https://open.spotify.com/episode/2YHcwnxS2bc0J...</td>\n",
              "      <td>Feb-22</td>\n",
              "    </tr>\n",
              "  </tbody>\n",
              "</table>\n",
              "</div>\n",
              "      <button class=\"colab-df-convert\" onclick=\"convertToInteractive('df-a16e99d7-a051-4fef-bd2f-8b490b122600')\"\n",
              "              title=\"Convert this dataframe to an interactive table.\"\n",
              "              style=\"display:none;\">\n",
              "        \n",
              "  <svg xmlns=\"http://www.w3.org/2000/svg\" height=\"24px\"viewBox=\"0 0 24 24\"\n",
              "       width=\"24px\">\n",
              "    <path d=\"M0 0h24v24H0V0z\" fill=\"none\"/>\n",
              "    <path d=\"M18.56 5.44l.94 2.06.94-2.06 2.06-.94-2.06-.94-.94-2.06-.94 2.06-2.06.94zm-11 1L8.5 8.5l.94-2.06 2.06-.94-2.06-.94L8.5 2.5l-.94 2.06-2.06.94zm10 10l.94 2.06.94-2.06 2.06-.94-2.06-.94-.94-2.06-.94 2.06-2.06.94z\"/><path d=\"M17.41 7.96l-1.37-1.37c-.4-.4-.92-.59-1.43-.59-.52 0-1.04.2-1.43.59L10.3 9.45l-7.72 7.72c-.78.78-.78 2.05 0 2.83L4 21.41c.39.39.9.59 1.41.59.51 0 1.02-.2 1.41-.59l7.78-7.78 2.81-2.81c.8-.78.8-2.07 0-2.86zM5.41 20L4 18.59l7.72-7.72 1.47 1.35L5.41 20z\"/>\n",
              "  </svg>\n",
              "      </button>\n",
              "      \n",
              "  <style>\n",
              "    .colab-df-container {\n",
              "      display:flex;\n",
              "      flex-wrap:wrap;\n",
              "      gap: 12px;\n",
              "    }\n",
              "\n",
              "    .colab-df-convert {\n",
              "      background-color: #E8F0FE;\n",
              "      border: none;\n",
              "      border-radius: 50%;\n",
              "      cursor: pointer;\n",
              "      display: none;\n",
              "      fill: #1967D2;\n",
              "      height: 32px;\n",
              "      padding: 0 0 0 0;\n",
              "      width: 32px;\n",
              "    }\n",
              "\n",
              "    .colab-df-convert:hover {\n",
              "      background-color: #E2EBFA;\n",
              "      box-shadow: 0px 1px 2px rgba(60, 64, 67, 0.3), 0px 1px 3px 1px rgba(60, 64, 67, 0.15);\n",
              "      fill: #174EA6;\n",
              "    }\n",
              "\n",
              "    [theme=dark] .colab-df-convert {\n",
              "      background-color: #3B4455;\n",
              "      fill: #D2E3FC;\n",
              "    }\n",
              "\n",
              "    [theme=dark] .colab-df-convert:hover {\n",
              "      background-color: #434B5C;\n",
              "      box-shadow: 0px 1px 3px 1px rgba(0, 0, 0, 0.15);\n",
              "      filter: drop-shadow(0px 1px 2px rgba(0, 0, 0, 0.3));\n",
              "      fill: #FFFFFF;\n",
              "    }\n",
              "  </style>\n",
              "\n",
              "      <script>\n",
              "        const buttonEl =\n",
              "          document.querySelector('#df-a16e99d7-a051-4fef-bd2f-8b490b122600 button.colab-df-convert');\n",
              "        buttonEl.style.display =\n",
              "          google.colab.kernel.accessAllowed ? 'block' : 'none';\n",
              "\n",
              "        async function convertToInteractive(key) {\n",
              "          const element = document.querySelector('#df-a16e99d7-a051-4fef-bd2f-8b490b122600');\n",
              "          const dataTable =\n",
              "            await google.colab.kernel.invokeFunction('convertToInteractive',\n",
              "                                                     [key], {});\n",
              "          if (!dataTable) return;\n",
              "\n",
              "          const docLinkHtml = 'Like what you see? Visit the ' +\n",
              "            '<a target=\"_blank\" href=https://colab.research.google.com/notebooks/data_table.ipynb>data table notebook</a>'\n",
              "            + ' to learn more about interactive tables.';\n",
              "          element.innerHTML = '';\n",
              "          dataTable['output_type'] = 'display_data';\n",
              "          await google.colab.output.renderOutput(dataTable, element);\n",
              "          const docLink = document.createElement('div');\n",
              "          docLink.innerHTML = docLinkHtml;\n",
              "          element.appendChild(docLink);\n",
              "        }\n",
              "      </script>\n",
              "    </div>\n",
              "  </div>\n",
              "  "
            ]
          },
          "metadata": {},
          "execution_count": 9
        }
      ]
    },
    {
      "cell_type": "code",
      "source": [
        "paths = sorted([str(x) for x in Path(AUDIO_PATH).glob('*.mp3')])\n",
        "paths"
      ],
      "metadata": {
        "colab": {
          "base_uri": "https://localhost:8080/"
        },
        "id": "6xVW3j5W3W8p",
        "outputId": "1635bfa8-a95a-4851-9bf2-72a44cf67e87"
      },
      "execution_count": null,
      "outputs": [
        {
          "output_type": "execute_result",
          "data": {
            "text/plain": [
              "[\"audio/A Third Path to Talent Development - Delta's Michelle McCrackin.mp3\",\n",
              " \"audio/AI in Aerospace - Boeing's Helen Lee.mp3\",\n",
              " \"audio/AI in Your Living Room - Peloton's Sanjay Nichani.mp3\",\n",
              " \"audio/Big Data in Agriculture - Land O'Lakes' Teddy Bekele.mp3\",\n",
              " \"audio/Choreographing Human-Machine Collaboration - Spotify's Sidney Madison Prescott.mp3\",\n",
              " \"audio/Digital First, Physical Second - Wayfair's Fiona Tan.mp3\",\n",
              " \"audio/Extreme Innovation with AI - Stanley Black and Decker's Mark Maybury.mp3\",\n",
              " \"audio/From Data to Wisdom - Novo Nordisk's Tonia Sideri.mp3\",\n",
              " \"audio/From Journalism to Jeans - Levi Strauss' Katia Walsh.mp3\",\n",
              " \"audio/Helping Doctors Make Better Decisions with Data - UC Berkley's Ziad Obermeyer.mp3\",\n",
              " \"audio/Imagining Furniture (and the Future) with AI - IKEA Retail's Barbara Martin Coppola.mp3\",\n",
              " \"audio/Inventing the Beauty of the Future - L'Oreal's Stephane Lannuzel.mp3\",\n",
              " \"audio/Investing in the Last Mile - PayPal's Khatereh Khodavirdi.mp3\",\n",
              " \"audio/Keeping Humans in the (Feedback) Loop - Orangetheory Fitness' Ameen Kazerouni.mp3\",\n",
              " \"audio/Out of the Lab and Into a Product - Microsoft's Eric Boyd.mp3\",\n",
              " \"audio/Precision Medicine in Pharma - Sanofi's Frank Nestle.mp3\",\n",
              " \"audio/The Beauty of AI - Estee Lauder's Sowmya Gottipati.mp3\",\n",
              " \"audio/The Collaboration Muscle - LinkedIn's Ya Xu.mp3\",\n",
              " \"audio/The Three Roles of the Chief Data Officer - ADP's Jack Berkowitz.mp3\",\n",
              " \"audio/Transforming Transactions with Technology - eBay's Nitzan Mekel-Bobrov.mp3\",\n",
              " \"audio/Transforming a Technology Organization for the Future - Starbucks' Gerri Martin-Flickinger.mp3\",\n",
              " \"audio/Turning Sound Into Information - Warner Music Group's Kobi Abayomi.mp3\"]"
            ]
          },
          "metadata": {},
          "execution_count": 10
        }
      ]
    },
    {
      "cell_type": "markdown",
      "source": [
        "### Automate Transcription and Save Transcript and Metadata"
      ],
      "metadata": {
        "id": "x4XLKfYg0Xth"
      }
    },
    {
      "cell_type": "code",
      "source": [
        "def save_transcript_json(content, title):\n",
        "  with open(f\"transcripts/{title}.jsonl\", \"w\", encoding=\"utf-8\") as fp:\n",
        "      for line in content:\n",
        "          json.dump(line, fp)\n",
        "          fp.write('\\n')"
      ],
      "metadata": {
        "id": "qDyTJUey6dn7"
      },
      "execution_count": null,
      "outputs": []
    },
    {
      "cell_type": "code",
      "source": [
        "for i, path in enumerate(paths):\n",
        "    episode_content = []\n",
        "\n",
        "    # Get info of podcast episode\n",
        "    title = path.split('/')[-1][:-4]\n",
        "\n",
        "    # Skip if transcript already exists\n",
        "    existing_transcripts = [str(x).split('/')[-1].split('.')[0] for x in \\\n",
        "                            Path(TRANSCRIPTS_PATH).glob('*')]\n",
        "    if title in existing_transcripts:\n",
        "      print(f'Transcript already exists for {title}. Skipping')\n",
        "    else:\n",
        "      date = metadata[metadata.Title == title][\"Date\"].values[0]\n",
        "      url = metadata[metadata.Title == title][\"URL\"].values[0]\n",
        "      \n",
        "      # Initiate timer\n",
        "      print(f'Begin transcription for {title}')\n",
        "      start = time.time()\n",
        "\n",
        "      # Transcribe MP3 audio\n",
        "      result = whisper_model.transcribe(path)\n",
        "      segments = result['segments']\n",
        "\n",
        "      for segment in segments:\n",
        "          # Merge segments data and podcast metadata\n",
        "          segment_content = {\n",
        "                            'title': title,\n",
        "                            'date': date,\n",
        "                            'url': url,\n",
        "                            'id': f\"{title}-t{segment['start']}\",\n",
        "                            'text': segment['text'].strip(),\n",
        "                            'start': segment['start'],\n",
        "                            'end': segment['end']\n",
        "                          }\n",
        "          episode_content.append(segment_content)\n",
        "\n",
        "      # Save contents as JSON\n",
        "      save_transcript_json(episode_content, title)\n",
        "      \n",
        "      # Show time taken\n",
        "      duration = time.time() -start\n",
        "      print(f\"{duration/60} minutes taken for episode: {title}\")"
      ],
      "metadata": {
        "colab": {
          "base_uri": "https://localhost:8080/"
        },
        "id": "ArS906GHyb2o",
        "outputId": "4137761d-0624-4c42-9e01-84c09f16a3fd"
      },
      "execution_count": null,
      "outputs": [
        {
          "output_type": "stream",
          "name": "stdout",
          "text": [
            "Transcript already exists for A Third Path to Talent Development - Delta's Michelle McCrackin. Skipping\n",
            "Transcript already exists for AI in Aerospace - Boeing's Helen Lee. Skipping\n",
            "Begin transcription for AI in Your Living Room - Peloton's Sanjay Nichani\n",
            "2.9641833583513897 minutes taken for episode: AI in Your Living Room - Peloton's Sanjay Nichani\n",
            "Begin transcription for Big Data in Agriculture - Land O'Lakes' Teddy Bekele\n",
            "3.1866719404856365 minutes taken for episode: Big Data in Agriculture - Land O'Lakes' Teddy Bekele\n",
            "Begin transcription for Choreographing Human-Machine Collaboration - Spotify's Sidney Madison Prescott\n",
            "4.17211240530014 minutes taken for episode: Choreographing Human-Machine Collaboration - Spotify's Sidney Madison Prescott\n",
            "Begin transcription for Digital First, Physical Second - Wayfair's Fiona Tan\n",
            "3.555857837200165 minutes taken for episode: Digital First, Physical Second - Wayfair's Fiona Tan\n",
            "Begin transcription for Extreme Innovation with AI - Stanley Black and Decker's Mark Maybury\n",
            "4.794457908471426 minutes taken for episode: Extreme Innovation with AI - Stanley Black and Decker's Mark Maybury\n",
            "Begin transcription for From Data to Wisdom - Novo Nordisk's Tonia Sideri\n",
            "3.4712600072224933 minutes taken for episode: From Data to Wisdom - Novo Nordisk's Tonia Sideri\n",
            "Begin transcription for From Journalism to Jeans - Levi Strauss' Katia Walsh\n",
            "3.619757397969564 minutes taken for episode: From Journalism to Jeans - Levi Strauss' Katia Walsh\n",
            "Begin transcription for Helping Doctors Make Better Decisions with Data - UC Berkley's Ziad Obermeyer\n",
            "4.458520710468292 minutes taken for episode: Helping Doctors Make Better Decisions with Data - UC Berkley's Ziad Obermeyer\n",
            "Begin transcription for Imagining Furniture (and the Future) with AI - IKEA Retail's Barbara Martin Coppola\n",
            "3.594948967297872 minutes taken for episode: Imagining Furniture (and the Future) with AI - IKEA Retail's Barbara Martin Coppola\n",
            "Begin transcription for Inventing the Beauty of the Future - L'Oreal's Stephane Lannuzel\n",
            "2.334605924288432 minutes taken for episode: Inventing the Beauty of the Future - L'Oreal's Stephane Lannuzel\n",
            "Begin transcription for Investing in the Last Mile - PayPal's Khatereh Khodavirdi\n",
            "3.786522392431895 minutes taken for episode: Investing in the Last Mile - PayPal's Khatereh Khodavirdi\n",
            "Begin transcription for Keeping Humans in the (Feedback) Loop - Orangetheory Fitness' Ameen Kazerouni\n",
            "3.016189650694529 minutes taken for episode: Keeping Humans in the (Feedback) Loop - Orangetheory Fitness' Ameen Kazerouni\n",
            "Begin transcription for Out of the Lab and Into a Product - Microsoft's Eric Boyd\n",
            "4.744445196787516 minutes taken for episode: Out of the Lab and Into a Product - Microsoft's Eric Boyd\n",
            "Begin transcription for Precision Medicine in Pharma - Sanofi's Frank Nestle\n",
            "3.310854804515839 minutes taken for episode: Precision Medicine in Pharma - Sanofi's Frank Nestle\n",
            "Begin transcription for The Beauty of AI - Estee Lauder's Sowmya Gottipati\n",
            "2.767304786046346 minutes taken for episode: The Beauty of AI - Estee Lauder's Sowmya Gottipati\n",
            "Begin transcription for The Collaboration Muscle - LinkedIn's Ya Xu\n",
            "3.680276024341583 minutes taken for episode: The Collaboration Muscle - LinkedIn's Ya Xu\n",
            "Begin transcription for The Three Roles of the Chief Data Officer - ADP's Jack Berkowitz\n",
            "2.9918702562650044 minutes taken for episode: The Three Roles of the Chief Data Officer - ADP's Jack Berkowitz\n",
            "Begin transcription for Transforming Transactions with Technology - eBay's Nitzan Mekel-Bobrov\n",
            "3.0016634662946067 minutes taken for episode: Transforming Transactions with Technology - eBay's Nitzan Mekel-Bobrov\n",
            "Begin transcription for Transforming a Technology Organization for the Future - Starbucks' Gerri Martin-Flickinger\n",
            "3.8846916874249775 minutes taken for episode: Transforming a Technology Organization for the Future - Starbucks' Gerri Martin-Flickinger\n",
            "Begin transcription for Turning Sound Into Information - Warner Music Group's Kobi Abayomi\n",
            "3.6656936526298525 minutes taken for episode: Turning Sound Into Information - Warner Music Group's Kobi Abayomi\n"
          ]
        }
      ]
    },
    {
      "cell_type": "markdown",
      "source": [
        "## Post-processing"
      ],
      "metadata": {
        "id": "-QzKfxdPsRCX"
      }
    },
    {
      "cell_type": "code",
      "source": [
        "# Then combine all JSONs into one master compilation\n",
        "transcripts = sorted([str(x) for x in Path(TRANSCRIPT_PATH).glob('*.jsonl')])\n",
        "transcripts"
      ],
      "metadata": {
        "id": "YPKjSLtWyb0Q",
        "colab": {
          "base_uri": "https://localhost:8080/"
        },
        "outputId": "ef0817c2-fd2c-424d-d622-84f5b05d1392"
      },
      "execution_count": null,
      "outputs": [
        {
          "output_type": "execute_result",
          "data": {
            "text/plain": [
              "[\"transcripts/A Third Path to Talent Development - Delta's Michelle McCrackin.jsonl\",\n",
              " \"transcripts/AI in Aerospace - Boeing's Helen Lee.jsonl\",\n",
              " \"transcripts/AI in Your Living Room - Peloton's Sanjay Nichani.jsonl\",\n",
              " \"transcripts/Big Data in Agriculture - Land O'Lakes' Teddy Bekele.jsonl\",\n",
              " \"transcripts/Choreographing Human-Machine Collaboration - Spotify's Sidney Madison Prescott.jsonl\",\n",
              " \"transcripts/Digital First, Physical Second - Wayfair's Fiona Tan.jsonl\",\n",
              " \"transcripts/Extreme Innovation with AI - Stanley Black and Decker's Mark Maybury.jsonl\",\n",
              " \"transcripts/From Data to Wisdom - Novo Nordisk's Tonia Sideri.jsonl\",\n",
              " \"transcripts/From Journalism to Jeans - Levi Strauss' Katia Walsh.jsonl\",\n",
              " \"transcripts/Helping Doctors Make Better Decisions with Data - UC Berkley's Ziad Obermeyer.jsonl\",\n",
              " \"transcripts/Imagining Furniture (and the Future) with AI - IKEA Retail's Barbara Martin Coppola.jsonl\",\n",
              " \"transcripts/Inventing the Beauty of the Future - L'Oreal's Stephane Lannuzel.jsonl\",\n",
              " \"transcripts/Investing in the Last Mile - PayPal's Khatereh Khodavirdi.jsonl\",\n",
              " \"transcripts/Keeping Humans in the (Feedback) Loop - Orangetheory Fitness' Ameen Kazerouni.jsonl\",\n",
              " \"transcripts/Out of the Lab and Into a Product - Microsoft's Eric Boyd.jsonl\",\n",
              " \"transcripts/Precision Medicine in Pharma - Sanofi's Frank Nestle.jsonl\",\n",
              " \"transcripts/The Beauty of AI - Estee Lauder's Sowmya Gottipati.jsonl\",\n",
              " \"transcripts/The Collaboration Muscle - LinkedIn's Ya Xu.jsonl\",\n",
              " \"transcripts/The Three Roles of the Chief Data Officer - ADP's Jack Berkowitz.jsonl\",\n",
              " \"transcripts/Transforming Transactions with Technology - eBay's Nitzan Mekel-Bobrov.jsonl\",\n",
              " \"transcripts/Transforming a Technology Organization for the Future - Starbucks' Gerri Martin-Flickinger.jsonl\",\n",
              " \"transcripts/Turning Sound Into Information - Warner Music Group's Kobi Abayomi.jsonl\"]"
            ]
          },
          "metadata": {},
          "execution_count": 12
        }
      ]
    },
    {
      "cell_type": "code",
      "source": [
        "lines = []\n",
        "\n",
        "# Combine all JSONL files together\n",
        "for transcript in transcripts:\n",
        "  with open(transcript, \"r\", encoding=\"utf-8\") as fp:\n",
        "    for line in fp:\n",
        "      line = json.loads(line) # Convert string dictionary to dict\n",
        "      lines.append(line)"
      ],
      "metadata": {
        "id": "R1hf3gsSsvzh"
      },
      "execution_count": null,
      "outputs": []
    },
    {
      "cell_type": "code",
      "source": [
        "print(len(lines))"
      ],
      "metadata": {
        "colab": {
          "base_uri": "https://localhost:8080/"
        },
        "id": "ehnMB0cBsvwr",
        "outputId": "f6222924-58c5-445f-b4e1-78672c2e405d"
      },
      "execution_count": null,
      "outputs": [
        {
          "output_type": "stream",
          "name": "stdout",
          "text": [
            "7152\n"
          ]
        }
      ]
    },
    {
      "cell_type": "code",
      "source": [
        "lines[6]"
      ],
      "metadata": {
        "colab": {
          "base_uri": "https://localhost:8080/"
        },
        "id": "8GmBbj9gtvS9",
        "outputId": "7bd88050-e0b3-40b9-db4a-454419a6222e"
      },
      "execution_count": null,
      "outputs": [
        {
          "output_type": "execute_result",
          "data": {
            "text/plain": [
              "{'title': \"A Third Path to Talent Development - Delta's Michelle McCrackin\",\n",
              " 'date': 'Mar-23',\n",
              " 'url': 'https://open.spotify.com/episode/50oRprIC6z0wJkpfLFQHDi',\n",
              " 'id': \"A Third Path to Talent Development - Delta's Michelle McCrackin-t32.56\",\n",
              " 'text': \"I'm also the AI and Business Strategy guest editor at MIT Sloan Management Review.\",\n",
              " 'start': 32.56,\n",
              " 'end': 38.019999999999996}"
            ]
          },
          "metadata": {},
          "execution_count": 15
        }
      ]
    },
    {
      "cell_type": "code",
      "source": [
        "for chunk in lines[5:8]:\n",
        "  print(chunk['text'])"
      ],
      "metadata": {
        "colab": {
          "base_uri": "https://localhost:8080/"
        },
        "id": "WdwVo6z9vdTX",
        "outputId": "f7a2db08-2e94-4f92-a173-5fe55489cea5"
      },
      "execution_count": null,
      "outputs": [
        {
          "output_type": "stream",
          "name": "stdout",
          "text": [
            "I'm Sam Ransbotham, Professor of Analytics at Boston College.\n",
            "I'm also the AI and Business Strategy guest editor at MIT Sloan Management Review.\n",
            "And I'm Shervin Kottubande, senior partner with BCG and one of the leaders of our AI business.\n"
          ]
        }
      ]
    },
    {
      "cell_type": "code",
      "source": [
        "# Chunking and striding\n",
        "new_segments = []\n",
        "\n",
        "chunk_size = 6  # No. of segment texts to combine\n",
        "chunk_overlap = 3  # No. of segment texts to overlap\n",
        "\n",
        "for i in range(0, len(lines), chunk_overlap):\n",
        "    i_end = min(len(lines)-1, i + chunk_size)\n",
        "    if lines[i]['title'] != lines[i_end]['title']:\n",
        "        # in this case we skip this entry as we have start/end of two videos\n",
        "        continue\n",
        "    text_list = []\n",
        "    for chunk in lines[i:i_end]:\n",
        "      text_list.append(chunk['text'])\n",
        "    text = ' '.join(text_list)\n",
        "    new_segments.append({\n",
        "        'start': lines[i]['start'],\n",
        "        'end': lines[i_end]['end'],\n",
        "        'title': lines[i]['title'],\n",
        "        'text': text,\n",
        "        'id': lines[i]['id'],\n",
        "        'url': lines[i]['url'],\n",
        "        'date': lines[i]['date']\n",
        "    })"
      ],
      "metadata": {
        "id": "g2qtVLf_-_DF"
      },
      "execution_count": null,
      "outputs": []
    },
    {
      "cell_type": "code",
      "source": [
        "len(new_segments)"
      ],
      "metadata": {
        "colab": {
          "base_uri": "https://localhost:8080/"
        },
        "id": "-LAF21xhya22",
        "outputId": "6fc1ce11-0eb6-4038-988a-b6fc96237f43"
      },
      "execution_count": null,
      "outputs": [
        {
          "output_type": "execute_result",
          "data": {
            "text/plain": [
              "2342"
            ]
          },
          "metadata": {},
          "execution_count": 18
        }
      ]
    },
    {
      "cell_type": "code",
      "source": [
        "new_segments[0]"
      ],
      "metadata": {
        "colab": {
          "base_uri": "https://localhost:8080/"
        },
        "id": "mfwulaHaycE_",
        "outputId": "066a5fcc-dbd3-4196-904b-b129e145a62a"
      },
      "execution_count": null,
      "outputs": [
        {
          "output_type": "execute_result",
          "data": {
            "text/plain": [
              "{'start': 0.0,\n",
              " 'end': 38.019999999999996,\n",
              " 'title': \"A Third Path to Talent Development - Delta's Michelle McCrackin\",\n",
              " 'text': \"How can organizations take advantage of existing deep domain knowledge? Find out how one airline is upscaling its frontline workforce on today's episode. I'm Michelle McCracken from Delta Airlines and you're listening to Me, Myself and AI. Welcome to Me, Myself and AI, a podcast on artificial intelligence and business. Each episode we introduce you to someone innovating with AI. I'm Sam Ransbotham, Professor of Analytics at Boston College.\",\n",
              " 'id': \"A Third Path to Talent Development - Delta's Michelle McCrackin-t0.0\",\n",
              " 'url': 'https://open.spotify.com/episode/50oRprIC6z0wJkpfLFQHDi',\n",
              " 'date': 'Mar-23'}"
            ]
          },
          "metadata": {},
          "execution_count": 19
        }
      ]
    },
    {
      "cell_type": "code",
      "source": [
        "embeddings = OpenAIEmbeddings(openai_api_key=os.environ['OPENAI_API_KEY'])"
      ],
      "metadata": {
        "id": "ldz1NNkY_BAr"
      },
      "execution_count": null,
      "outputs": []
    },
    {
      "cell_type": "code",
      "source": [
        "# initialize pinecone\n",
        "pinecone.init(\n",
        "    api_key=os.environ['PINECONE_API_KEY'],\n",
        "    environment=os.environ['PINECONE_ENV'])\n",
        "\n",
        "index_name = \"chat-podcast\"\n",
        "\n",
        "if index_name not in pinecone.list_indexes():\n",
        "    pinecone.create_index(\n",
        "        index_name,\n",
        "        1536, # Dimensions of OpenAI embeddings\n",
        "        metric=\"cosine\"\n",
        "    )\n",
        "\n",
        "index = pinecone.Index(index_name)\n",
        "index.describe_index_stats()"
      ],
      "metadata": {
        "colab": {
          "base_uri": "https://localhost:8080/"
        },
        "id": "FZZ-PJwOSWbp",
        "outputId": "f47be6cc-5409-4a0e-a622-e3092609f65e"
      },
      "execution_count": null,
      "outputs": [
        {
          "output_type": "execute_result",
          "data": {
            "text/plain": [
              "{'dimension': 1536,\n",
              " 'index_fullness': 0.0,\n",
              " 'namespaces': {},\n",
              " 'total_vector_count': 0}"
            ]
          },
          "metadata": {},
          "execution_count": 33
        }
      ]
    },
    {
      "cell_type": "code",
      "source": [
        "new_segments[0]"
      ],
      "metadata": {
        "colab": {
          "base_uri": "https://localhost:8080/"
        },
        "id": "l5YK8AceVSPE",
        "outputId": "07d9a793-fb22-4487-e4ff-99691df424c5"
      },
      "execution_count": null,
      "outputs": [
        {
          "output_type": "execute_result",
          "data": {
            "text/plain": [
              "{'start': 0.0,\n",
              " 'end': 38.019999999999996,\n",
              " 'title': \"A Third Path to Talent Development - Delta's Michelle McCrackin\",\n",
              " 'text': \"How can organizations take advantage of existing deep domain knowledge? Find out how one airline is upscaling its frontline workforce on today's episode. I'm Michelle McCracken from Delta Airlines and you're listening to Me, Myself and AI. Welcome to Me, Myself and AI, a podcast on artificial intelligence and business. Each episode we introduce you to someone innovating with AI. I'm Sam Ransbotham, Professor of Analytics at Boston College.\",\n",
              " 'id': \"A Third Path to Talent Development - Delta's Michelle McCrackin-t0.0\",\n",
              " 'url': 'https://open.spotify.com/episode/50oRprIC6z0wJkpfLFQHDi',\n",
              " 'date': 'Mar-23'}"
            ]
          },
          "metadata": {},
          "execution_count": 35
        }
      ]
    },
    {
      "cell_type": "code",
      "source": [
        "# Convert segments into three lists for vectorstore upsert\n",
        "texts = [elem['text'] for elem in new_segments]\n",
        "ids = [elem['id'] for elem in new_segments]\n",
        "metadatas = [{\n",
        "            \"text\": elem[\"text\"],\n",
        "            \"start\": elem[\"start\"],\n",
        "            \"end\": elem[\"end\"],\n",
        "            \"url\": elem[\"url\"],\n",
        "            \"date\": elem[\"date\"],\n",
        "            \"title\": elem[\"title\"]\n",
        "            } for elem in new_segments]"
      ],
      "metadata": {
        "id": "4hlAcPyOUlYb"
      },
      "execution_count": null,
      "outputs": []
    },
    {
      "cell_type": "code",
      "source": [
        "docsearch = Pinecone.from_texts(texts=texts, \n",
        "                                embedding=embeddings, \n",
        "                                metadatas=metadatas,\n",
        "                                ids=ids,\n",
        "                                index_name=index_name)"
      ],
      "metadata": {
        "id": "bniNtqzCUWU1"
      },
      "execution_count": null,
      "outputs": []
    },
    {
      "cell_type": "code",
      "source": [
        "index.describe_index_stats()"
      ],
      "metadata": {
        "colab": {
          "base_uri": "https://localhost:8080/"
        },
        "id": "qbq7vO4jW7DM",
        "outputId": "7959243b-8383-4e31-d2d0-628529332250"
      },
      "execution_count": null,
      "outputs": [
        {
          "output_type": "execute_result",
          "data": {
            "text/plain": [
              "{'dimension': 1536,\n",
              " 'index_fullness': 0.0,\n",
              " 'namespaces': {'': {'vector_count': 2342}},\n",
              " 'total_vector_count': 2342}"
            ]
          },
          "metadata": {},
          "execution_count": 43
        }
      ]
    },
    {
      "cell_type": "code",
      "source": [
        "query = \"Which guest was invited to talk about the airline industry?\"\n",
        "docs = docsearch.similarity_search(query)"
      ],
      "metadata": {
        "id": "sPMRZe1-1vG2"
      },
      "execution_count": null,
      "outputs": []
    },
    {
      "cell_type": "code",
      "source": [
        "print(docs[0].page_content)"
      ],
      "metadata": {
        "colab": {
          "base_uri": "https://localhost:8080/"
        },
        "id": "HfxeRLw4Xa3V",
        "outputId": "3dc4e848-3111-4d93-d9d2-806b6c128c44"
      },
      "execution_count": null,
      "outputs": [
        {
          "output_type": "stream",
          "name": "stdout",
          "text": [
            "Shervin are excited to be talking today with Helen Li, Regional Director of Air Traffic Management and Airport Programs in China for the Boeing Company. Helen, thanks for taking the time to talk with us. Welcome. Thank you for having me. Let's get started. Helen, can you tell us about your current role at Boeing? I currently work at Boeing China in the Beijing office.\n"
          ]
        }
      ]
    },
    {
      "cell_type": "code",
      "source": [],
      "metadata": {
        "id": "cvmLcb_-Xa0x"
      },
      "execution_count": null,
      "outputs": []
    },
    {
      "cell_type": "code",
      "source": [
        "# References\n",
        "# https://github.com/jamescalam/ask-youtube/blob/main/youtube-search/01-openai-whisper.ipynb\n",
        "# https://www.pinecone.io/learn/openai-whisper/\n",
        "# https://huggingface.co/openai/whisper-medium\n",
        "# https://github.com/hwchase17/langchain/blob/master/langchain/vectorstores/pinecone.py"
      ],
      "metadata": {
        "id": "CcwBwlQp_LzD"
      },
      "execution_count": null,
      "outputs": []
    }
  ]
}