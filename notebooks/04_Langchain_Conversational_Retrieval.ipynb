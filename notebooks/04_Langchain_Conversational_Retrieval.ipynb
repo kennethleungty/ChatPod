{
 "cells": [
  {
   "cell_type": "markdown",
   "id": "a5b0c1e2",
   "metadata": {},
   "source": [
    "# Chat Podcast\n",
    "\n",
    "Author: Kenneth Leung\n",
    "\n",
    "## 04. Langchain Conversational Retreival\n",
    "\n",
    "#### References\n",
    "- https://python.langchain.com/en/latest/modules/chains/index_examples/chat_vector_db.html\n",
    "- https://github.com/hwchase17/langchain/blob/master/langchain/vectorstores/pinecone.py\n",
    "- https://github.com/hwchase17/langchain/blob/9a5268dc5feab0d9e7f67b569014d30b716622f8/langchain/chains/question_answering/__init__.py#L187\n",
    "- https://github.com/hwchase17/langchain/blob/master/langchain/chains/conversational_retrieval/base.py"
   ]
  },
  {
   "cell_type": "code",
   "execution_count": 2,
   "id": "6480ed9a",
   "metadata": {},
   "outputs": [
    {
     "name": "stderr",
     "output_type": "stream",
     "text": [
      "C:\\Users\\kenne\\Google Drive\\Data Vault\\GitHub\\Chat-Podcast\\chat_podcast_venv\\lib\\site-packages\\pinecone\\index.py:4: TqdmExperimentalWarning: Using `tqdm.autonotebook.tqdm` in notebook mode. Use `tqdm.tqdm` instead to force console mode (e.g. in jupyter console)\n",
      "  from tqdm.autonotebook import tqdm\n"
     ]
    }
   ],
   "source": [
    "from dotenv import load_dotenv\n",
    "from langchain import LLMChain\n",
    "from langchain.embeddings.openai import OpenAIEmbeddings\n",
    "from langchain.llms import OpenAI\n",
    "from langchain.chat_models import ChatOpenAI\n",
    "from langchain.chains import RetrievalQA, ConversationalRetrievalChain\n",
    "from langchain.vectorstores import Pinecone\n",
    "from langchain.prompts.chat import (\n",
    "    ChatPromptTemplate,\n",
    "    SystemMessagePromptTemplate,\n",
    "    # AIMessagePromptTemplate,\n",
    "    HumanMessagePromptTemplate)\n",
    "import pinecone \n",
    "import os"
   ]
  },
  {
   "cell_type": "code",
   "execution_count": 3,
   "id": "39d2dfc2",
   "metadata": {},
   "outputs": [
    {
     "data": {
      "text/plain": [
       "True"
      ]
     },
     "execution_count": 3,
     "metadata": {},
     "output_type": "execute_result"
    }
   ],
   "source": [
    "load_dotenv(dotenv_path='../.env', verbose=True)"
   ]
  },
  {
   "cell_type": "code",
   "execution_count": 4,
   "id": "6bf32337",
   "metadata": {},
   "outputs": [],
   "source": [
    "embeddings = OpenAIEmbeddings(openai_api_key=os.environ['OPENAI_API_KEY'])"
   ]
  },
  {
   "cell_type": "code",
   "execution_count": 5,
   "id": "20b6733b",
   "metadata": {},
   "outputs": [],
   "source": [
    "llm = ChatOpenAI(\n",
    "                model_name='gpt-3.5-turbo',\n",
    "#               model_name='gpt-4',\n",
    "                temperature=0\n",
    "               )"
   ]
  },
  {
   "cell_type": "code",
   "execution_count": 6,
   "id": "f783a50c",
   "metadata": {},
   "outputs": [
    {
     "data": {
      "text/plain": [
       "{'dimension': 1536,\n",
       " 'index_fullness': 0.0,\n",
       " 'namespaces': {'': {'vector_count': 2342}},\n",
       " 'total_vector_count': 2342}"
      ]
     },
     "execution_count": 6,
     "metadata": {},
     "output_type": "execute_result"
    }
   ],
   "source": [
    "# Initialize pinecone instance\n",
    "pinecone.init(\n",
    "    api_key=os.environ['PINECONE_API_KEY'],\n",
    "    environment=os.environ['PINECONE_ENV'])\n",
    "\n",
    "index_name = \"chat-podcast\"\n",
    "\n",
    "index = pinecone.Index(index_name)\n",
    "index.describe_index_stats()"
   ]
  },
  {
   "cell_type": "code",
   "execution_count": 7,
   "id": "4705abdd",
   "metadata": {},
   "outputs": [],
   "source": [
    "docsearch = Pinecone.from_existing_index(index_name=index_name,\n",
    "                                         embedding=embeddings)"
   ]
  },
  {
   "cell_type": "markdown",
   "id": "7c98b8ca",
   "metadata": {},
   "source": [
    "___\n",
    "##### Vanilla LLMChain method"
   ]
  },
  {
   "cell_type": "code",
   "execution_count": 8,
   "id": "7be228fd",
   "metadata": {},
   "outputs": [],
   "source": [
    "query = \"What is the name of the guest in the L'Oreal episode?\""
   ]
  },
  {
   "cell_type": "code",
   "execution_count": 9,
   "id": "04456283",
   "metadata": {},
   "outputs": [],
   "source": [
    "docs = docsearch.similarity_search_with_score(query, k=3)"
   ]
  },
  {
   "cell_type": "code",
   "execution_count": 149,
   "id": "bdf49816",
   "metadata": {},
   "outputs": [
    {
     "data": {
      "text/plain": [
       "\"Yeah, great to talk with you. Next time, Shervin and I talk with Stéphane Lanizot, Beauty Tech Program Director at L'Oreal. I'm always up for a good episode about cosmetics. Please join us. Thanks for listening to Me, Myself and AI.\""
      ]
     },
     "execution_count": 149,
     "metadata": {},
     "output_type": "execute_result"
    }
   ],
   "source": [
    "docs[0][0].page_content"
   ]
  },
  {
   "cell_type": "code",
   "execution_count": 146,
   "id": "cb9c5c23",
   "metadata": {
    "scrolled": true
   },
   "outputs": [
    {
     "data": {
      "text/plain": [
       "[\"Yeah, great to talk with you. Next time, Shervin and I talk with Stéphane Lanizot, Beauty Tech Program Director at L'Oreal. I'm always up for a good episode about cosmetics. Please join us. Thanks for listening to Me, Myself and AI.\",\n",
       " \"and I'm sure very valuable for all of our listeners. Thank you so much for this. Thank you for having me. Yeah, great to talk with you. Next time, Shervin and I talk with Stéphane Lanizot, Beauty Tech Program Director at L'Oreal.\",\n",
       " \"on the digital services of our solution that we develop. And it's really key to develop services that make an impact for the consumers. If you're enjoying today's episode, have a listen to last season's conversation with Somya Gautapati from L'Oreal. It's called The Beauty of AI, and you'll find it in our feed. That's fantastic. Sam, do you want to move to five questions?\"]"
      ]
     },
     "execution_count": 146,
     "metadata": {},
     "output_type": "execute_result"
    }
   ],
   "source": [
    "texts = [doc[0].page_content for doc in docs]\n",
    "texts"
   ]
  },
  {
   "cell_type": "code",
   "execution_count": 148,
   "id": "c7f0797b",
   "metadata": {},
   "outputs": [],
   "source": [
    "# Concatenate the relevant chunks into context\n",
    "context = \" \".join(texts)"
   ]
  },
  {
   "cell_type": "code",
   "execution_count": 147,
   "id": "d2a13de0",
   "metadata": {},
   "outputs": [
    {
     "data": {
      "text/plain": [
       "[0.799976051, 0.79630214, 0.786752224]"
      ]
     },
     "execution_count": 147,
     "metadata": {},
     "output_type": "execute_result"
    }
   ],
   "source": [
    "scores = [doc[1] for doc in docs]\n",
    "scores"
   ]
  },
  {
   "cell_type": "code",
   "execution_count": 151,
   "id": "a7debc65",
   "metadata": {},
   "outputs": [],
   "source": [
    "# Concatenate the relevant chunks into context\n",
    "context = \" \".join([result[0].page_content for result in docs])"
   ]
  },
  {
   "cell_type": "code",
   "execution_count": 152,
   "id": "1103136e",
   "metadata": {},
   "outputs": [],
   "source": [
    "# Prompts\n",
    "system_template = f\"\"\"Use the following pieces of context to answer the question at the end. If you don't know the answer, just say that you don't know, don't try to make up an answer.\n",
    "\n",
    "{context}\n",
    "\n",
    "Helpful answer:\"\"\"\n",
    "\n",
    "messages = [\n",
    "    SystemMessagePromptTemplate.from_template(system_template),\n",
    "    HumanMessagePromptTemplate.from_template('{question}')\n",
    "]\n",
    "\n",
    "prompt = ChatPromptTemplate.from_messages(messages)"
   ]
  },
  {
   "cell_type": "code",
   "execution_count": 153,
   "id": "88d59b05",
   "metadata": {},
   "outputs": [
    {
     "data": {
      "text/plain": [
       "\"The guest in the L'Oreal episode is Stéphane Lanizot, Beauty Tech Program Director at L'Oreal.\""
      ]
     },
     "execution_count": 153,
     "metadata": {},
     "output_type": "execute_result"
    }
   ],
   "source": [
    "llm_chain = LLMChain(prompt=prompt, \n",
    "                     llm=llm, \n",
    "                     verbose=False)\n",
    "\n",
    "llm_chain.predict(question=query)"
   ]
  },
  {
   "cell_type": "code",
   "execution_count": 20,
   "id": "0300648c",
   "metadata": {},
   "outputs": [
    {
     "name": "stdout",
     "output_type": "stream",
     "text": [
      "{'date': 'Aug-22', 'end': 1302.7199999999998, 'start': 1284.8400000000001, 'title': \"Precision Medicine in Pharma - Sanofi's Frank Nestle\", 'url': 'https://open.spotify.com/episode/4v6mkOECXaX4WUReVgAk65'}\n",
      "{'date': 'Aug-22', 'end': 1295.8799999999999, 'start': 1278.92, 'title': \"Precision Medicine in Pharma - Sanofi's Frank Nestle\", 'url': 'https://open.spotify.com/episode/4v6mkOECXaX4WUReVgAk65'}\n",
      "{'date': 'Aug-22', 'end': 802.8000000000001, 'start': 770.12, 'title': \"Inventing the Beauty of the Future - L'Oreal's Stephane Lannuzel\", 'url': 'https://open.spotify.com/episode/0VjOOFSNm7y8x1rwXPlwtk'}\n"
     ]
    }
   ],
   "source": [
    "# Get metadata\n",
    "for doc in docs:\n",
    "    metadata = doc[0].metadata\n",
    "    print(metadata)"
   ]
  },
  {
   "cell_type": "markdown",
   "id": "5997f16f",
   "metadata": {},
   "source": [
    "___\n",
    "##### RetrievalQA method"
   ]
  },
  {
   "cell_type": "code",
   "execution_count": 76,
   "id": "6d7758b3",
   "metadata": {
    "scrolled": true
   },
   "outputs": [
    {
     "data": {
      "text/plain": [
       "{'query': 'What is the name of the guest in the Starbucks episode?',\n",
       " 'result': 'The guest in the Starbucks episode is Jerry Martin Flitinger.',\n",
       " 'source_documents': [Document(page_content=\"Today we're talking with Jerry Martin Flitinger, former executive vice president and chief technology officer at Starbucks. Jerry, thanks for taking the time to talk with us. Welcome. Really great to have you here, Jerry. Thanks for having me.\", metadata={'date': 'Jan-22', 'end': 78.44, 'start': 64.08, 'title': \"Transforming a Technology Organization for the Future - Starbucks' Gerri Martin-Flickinger\", 'url': 'https://open.spotify.com/episode/3vYhtQxhoVY9jJfzDExafY'}),\n",
       "  Document(page_content=\"If you have a moment, please consider leaving us an Apple podcast review or a rating on Spotify and share our show with others you think might find it interesting and helpful. That's tricky because actually when you say latte, I know exactly what you mean because you mean exactly the one that I would drink. You don't mean the one that Shervin would drink. And to answer the question, you've got to answer it for every single person.\", metadata={'date': 'Jan-22', 'end': 856.6, 'start': 831.08, 'title': \"Transforming a Technology Organization for the Future - Starbucks' Gerri Martin-Flickinger\", 'url': 'https://open.spotify.com/episode/3vYhtQxhoVY9jJfzDExafY'}),\n",
       "  Document(page_content=\"name of IT to Starbucks Technology. Never used the word IT again. And if I was ever in a meeting where somebody said IT, I'd stop the meeting and I'd say, we don't have IT, we have a Starbucks Technology. And it's kind of funny because that one change made a big difference. The next thing that I think can make a difference is you need a tagline.\", metadata={'date': 'Jan-22', 'end': 1463.96, 'start': 1441.32, 'title': \"Transforming a Technology Organization for the Future - Starbucks' Gerri Martin-Flickinger\", 'url': 'https://open.spotify.com/episode/3vYhtQxhoVY9jJfzDExafY'}),\n",
       "  Document(page_content=\"I hate to say it, but everybody in business, everyone who's a CEO knows it. You got to tell your story and you don't get five hours to tell your story. You get six to 10 words and you better get people curious to ask more. And so put a tagline in place, super simple, talented technologists delivering today leading into the future. Starbucks Technology, that's it.\", metadata={'date': 'Jan-22', 'end': 1496.4399999999998, 'start': 1460.2, 'title': \"Transforming a Technology Organization for the Future - Starbucks' Gerri Martin-Flickinger\", 'url': 'https://open.spotify.com/episode/3vYhtQxhoVY9jJfzDExafY'}),\n",
       "  Document(page_content=\"we don't have IT, we have a Starbucks Technology. And it's kind of funny because that one change made a big difference. The next thing that I think can make a difference is you need a tagline. I hate to say it, but everybody in business, everyone who's a CEO knows it. You got to tell your story and you don't get five hours to tell your story. You get six to 10 words and you better get people curious to ask more.\", metadata={'date': 'Jan-22', 'end': 1480.6799999999998, 'start': 1449.48, 'title': \"Transforming a Technology Organization for the Future - Starbucks' Gerri Martin-Flickinger\", 'url': 'https://open.spotify.com/episode/3vYhtQxhoVY9jJfzDExafY'})]}"
      ]
     },
     "execution_count": 76,
     "metadata": {},
     "output_type": "execute_result"
    }
   ],
   "source": [
    "# qa = RetrievalQA.from_chain_type(llm=llm, \n",
    "#                                  chain_type=\"stuff\", \n",
    "#                                  retriever=docsearch.as_retriever(),\n",
    "#                                  return_source_documents=True)\n",
    "\n",
    "# query = \"What is the name of the guest in the Starbucks episode?\"\n",
    "# result = qa({\"query\": query})\n",
    "# result"
   ]
  },
  {
   "cell_type": "markdown",
   "id": "04b11b2f",
   "metadata": {},
   "source": [
    "___"
   ]
  },
  {
   "cell_type": "markdown",
   "id": "d1185c1e",
   "metadata": {},
   "source": [
    "##### ConversationalRetrievalChain method"
   ]
  },
  {
   "cell_type": "code",
   "execution_count": 78,
   "id": "ad05878e",
   "metadata": {
    "scrolled": true
   },
   "outputs": [
    {
     "data": {
      "text/plain": [
       "{'question': 'What is the name of the guest in the Starbucks episode?',\n",
       " 'chat_history': [],\n",
       " 'answer': 'The guest in the Starbucks episode is Jerry Martin Flitinger.',\n",
       " 'source_documents': [Document(page_content=\"Today we're talking with Jerry Martin Flitinger, former executive vice president and chief technology officer at Starbucks. Jerry, thanks for taking the time to talk with us. Welcome. Really great to have you here, Jerry. Thanks for having me.\", metadata={'date': 'Jan-22', 'end': 78.44, 'start': 64.08, 'title': \"Transforming a Technology Organization for the Future - Starbucks' Gerri Martin-Flickinger\", 'url': 'https://open.spotify.com/episode/3vYhtQxhoVY9jJfzDExafY'}),\n",
       "  Document(page_content=\"If you have a moment, please consider leaving us an Apple podcast review or a rating on Spotify and share our show with others you think might find it interesting and helpful. That's tricky because actually when you say latte, I know exactly what you mean because you mean exactly the one that I would drink. You don't mean the one that Shervin would drink. And to answer the question, you've got to answer it for every single person.\", metadata={'date': 'Jan-22', 'end': 856.6, 'start': 831.08, 'title': \"Transforming a Technology Organization for the Future - Starbucks' Gerri Martin-Flickinger\", 'url': 'https://open.spotify.com/episode/3vYhtQxhoVY9jJfzDExafY'}),\n",
       "  Document(page_content=\"name of IT to Starbucks Technology. Never used the word IT again. And if I was ever in a meeting where somebody said IT, I'd stop the meeting and I'd say, we don't have IT, we have a Starbucks Technology. And it's kind of funny because that one change made a big difference. The next thing that I think can make a difference is you need a tagline.\", metadata={'date': 'Jan-22', 'end': 1463.96, 'start': 1441.32, 'title': \"Transforming a Technology Organization for the Future - Starbucks' Gerri Martin-Flickinger\", 'url': 'https://open.spotify.com/episode/3vYhtQxhoVY9jJfzDExafY'}),\n",
       "  Document(page_content=\"I hate to say it, but everybody in business, everyone who's a CEO knows it. You got to tell your story and you don't get five hours to tell your story. You get six to 10 words and you better get people curious to ask more. And so put a tagline in place, super simple, talented technologists delivering today leading into the future. Starbucks Technology, that's it.\", metadata={'date': 'Jan-22', 'end': 1496.4399999999998, 'start': 1460.2, 'title': \"Transforming a Technology Organization for the Future - Starbucks' Gerri Martin-Flickinger\", 'url': 'https://open.spotify.com/episode/3vYhtQxhoVY9jJfzDExafY'}),\n",
       "  Document(page_content=\"we don't have IT, we have a Starbucks Technology. And it's kind of funny because that one change made a big difference. The next thing that I think can make a difference is you need a tagline. I hate to say it, but everybody in business, everyone who's a CEO knows it. You got to tell your story and you don't get five hours to tell your story. You get six to 10 words and you better get people curious to ask more.\", metadata={'date': 'Jan-22', 'end': 1480.6799999999998, 'start': 1449.48, 'title': \"Transforming a Technology Organization for the Future - Starbucks' Gerri Martin-Flickinger\", 'url': 'https://open.spotify.com/episode/3vYhtQxhoVY9jJfzDExafY'})]}"
      ]
     },
     "execution_count": 78,
     "metadata": {},
     "output_type": "execute_result"
    }
   ],
   "source": [
    "# qa = ConversationalRetrievalChain.from_llm(llm=llm, \n",
    "#                                            retriever=docsearch.as_retriever(),\n",
    "#                                            return_source_documents=True)\n",
    "\n",
    "# chat_history = []\n",
    "\n",
    "# query = \"What is the name of the guest in the Starbucks episode?\"\n",
    "# result = qa({\"question\": query, \"chat_history\": chat_history})\n",
    "\n",
    "# result"
   ]
  }
 ],
 "metadata": {
  "kernelspec": {
   "display_name": "chat_podcast_venv",
   "language": "python",
   "name": "chat_podcast_venv"
  },
  "language_info": {
   "codemirror_mode": {
    "name": "ipython",
    "version": 3
   },
   "file_extension": ".py",
   "mimetype": "text/x-python",
   "name": "python",
   "nbconvert_exporter": "python",
   "pygments_lexer": "ipython3",
   "version": "3.9.12"
  }
 },
 "nbformat": 4,
 "nbformat_minor": 5
}
