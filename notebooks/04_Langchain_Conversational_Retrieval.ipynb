{
 "cells": [
  {
   "cell_type": "markdown",
   "id": "a5b0c1e2",
   "metadata": {},
   "source": [
    "# Chat Podcast\n",
    "\n",
    "Author: Kenneth Leung\n",
    "\n",
    "## 04. Langchain Conversational Retrieval\n",
    "\n",
    "#### References\n",
    "- https://python.langchain.com/en/latest/modules/chains/index_examples/chat_vector_db.html\n",
    "- https://github.com/hwchase17/langchain/blob/master/langchain/vectorstores/pinecone.py\n",
    "- https://github.com/hwchase17/langchain/blob/9a5268dc5feab0d9e7f67b569014d30b716622f8/langchain/chains/question_answering/__init__.py#L187\n",
    "- https://github.com/hwchase17/langchain/blob/master/langchain/chains/conversational_retrieval/base.py"
   ]
  },
  {
   "cell_type": "code",
   "execution_count": 1,
   "id": "6480ed9a",
   "metadata": {},
   "outputs": [
    {
     "name": "stderr",
     "output_type": "stream",
     "text": [
      "C:\\Users\\kenne\\Google Drive\\Data Vault\\GitHub\\Chat-Podcast\\chat_podcast_venv\\lib\\site-packages\\pinecone\\index.py:4: TqdmExperimentalWarning: Using `tqdm.autonotebook.tqdm` in notebook mode. Use `tqdm.tqdm` instead to force console mode (e.g. in jupyter console)\n",
      "  from tqdm.autonotebook import tqdm\n"
     ]
    }
   ],
   "source": [
    "from dotenv import load_dotenv\n",
    "from langchain import LLMChain\n",
    "from langchain.embeddings.openai import OpenAIEmbeddings\n",
    "from langchain.llms import OpenAI\n",
    "from langchain.chat_models import ChatOpenAI\n",
    "from langchain.chains import RetrievalQA, ConversationalRetrievalChain\n",
    "from langchain.vectorstores import Pinecone\n",
    "from langchain.prompts.chat import (\n",
    "    ChatPromptTemplate,\n",
    "    SystemMessagePromptTemplate,\n",
    "    # AIMessagePromptTemplate,\n",
    "    HumanMessagePromptTemplate)\n",
    "from langchain.vectorstores import FAISS\n",
    "import pinecone \n",
    "import os"
   ]
  },
  {
   "cell_type": "code",
   "execution_count": 22,
   "id": "129b24f7",
   "metadata": {},
   "outputs": [],
   "source": [
    "os.environ['OPENAI_API_KEY'] = 'your_key_here'"
   ]
  },
  {
   "cell_type": "code",
   "execution_count": 11,
   "id": "0fa3974c",
   "metadata": {},
   "outputs": [],
   "source": [
    "# Config settings\n",
    "AUDIO_PATH = '../audio'\n",
    "TRANSCRIPT_PATH = '../transcripts'\n",
    "VECTORSTORE_PATH = '../vectorstore'"
   ]
  },
  {
   "cell_type": "code",
   "execution_count": 24,
   "id": "6bf32337",
   "metadata": {},
   "outputs": [],
   "source": [
    "embeddings = OpenAIEmbeddings(openai_api_key=os.environ['OPENAI_API_KEY'])"
   ]
  },
  {
   "cell_type": "code",
   "execution_count": 7,
   "id": "20b6733b",
   "metadata": {},
   "outputs": [],
   "source": [
    "llm = ChatOpenAI(\n",
    "                model_name='gpt-3.5-turbo',\n",
    "                temperature=0\n",
    "                \n",
    "               )"
   ]
  },
  {
   "cell_type": "markdown",
   "id": "fd53bc3b",
   "metadata": {},
   "source": [
    "#### Load from Pinecone"
   ]
  },
  {
   "cell_type": "code",
   "execution_count": 6,
   "id": "f783a50c",
   "metadata": {},
   "outputs": [
    {
     "data": {
      "text/plain": [
       "{'dimension': 1536,\n",
       " 'index_fullness': 0.0,\n",
       " 'namespaces': {'': {'vector_count': 2342}},\n",
       " 'total_vector_count': 2342}"
      ]
     },
     "execution_count": 6,
     "metadata": {},
     "output_type": "execute_result"
    }
   ],
   "source": [
    "# # Initialize pinecone instance\n",
    "# pinecone.init(\n",
    "#     api_key=os.environ['PINECONE_API_KEY'],\n",
    "#     environment=os.environ['PINECONE_ENV'])\n",
    "\n",
    "# index_name = \"chat-podcast\"\n",
    "\n",
    "# index = pinecone.Index(index_name)\n",
    "# index.describe_index_stats()"
   ]
  },
  {
   "cell_type": "code",
   "execution_count": 7,
   "id": "4705abdd",
   "metadata": {},
   "outputs": [],
   "source": [
    "# docsearch = Pinecone.from_existing_index(index_name=index_name,\n",
    "#                                          embedding=embeddings)"
   ]
  },
  {
   "cell_type": "markdown",
   "id": "22921ccc",
   "metadata": {},
   "source": [
    "#### Load from FAISS"
   ]
  },
  {
   "cell_type": "code",
   "execution_count": 12,
   "id": "c1c29d10",
   "metadata": {},
   "outputs": [],
   "source": [
    "docsearch = FAISS.load_local(f'{VECTORSTORE_PATH}/all_podcasts', embeddings)"
   ]
  },
  {
   "cell_type": "markdown",
   "id": "7c98b8ca",
   "metadata": {},
   "source": [
    "___\n",
    "## Retrieval Methods\n",
    "### (1) Vanilla LLMChain method"
   ]
  },
  {
   "cell_type": "code",
   "execution_count": 13,
   "id": "7be228fd",
   "metadata": {},
   "outputs": [],
   "source": [
    "query = \"What is the name of the guest in the L'Oreal episode?\""
   ]
  },
  {
   "cell_type": "markdown",
   "id": "2f7f93d4",
   "metadata": {},
   "source": [
    "#### Cosine Similarity"
   ]
  },
  {
   "cell_type": "code",
   "execution_count": 26,
   "id": "04456283",
   "metadata": {},
   "outputs": [
    {
     "data": {
      "text/plain": [
       "\"Thank you so much for this. Thank you for having me. Yeah, great to talk with you. Next time, Shervin and I talk with Stéphane Lanizot, Beauty Tech Program Director at L'Oreal. I'm always up for a good episode about cosmetics.\""
      ]
     },
     "execution_count": 26,
     "metadata": {},
     "output_type": "execute_result"
    }
   ],
   "source": [
    "docs = docsearch.similarity_search_with_score(query, k=2)\n",
    "docs[0][0].page_content"
   ]
  },
  {
   "cell_type": "code",
   "execution_count": 27,
   "id": "cba0588c",
   "metadata": {},
   "outputs": [
    {
     "data": {
      "text/plain": [
       "[\"Thank you so much for this. Thank you for having me. Yeah, great to talk with you. Next time, Shervin and I talk with Stéphane Lanizot, Beauty Tech Program Director at L'Oreal. I'm always up for a good episode about cosmetics.\",\n",
       " \"Next time, Shervin and I talk with Stéphane Lanizot, Beauty Tech Program Director at L'Oreal. I'm always up for a good episode about cosmetics. Please join us. Thanks for listening to Me, Myself and AI. We believe, like you, that the conversation\"]"
      ]
     },
     "execution_count": 27,
     "metadata": {},
     "output_type": "execute_result"
    }
   ],
   "source": [
    "texts = [doc[0].page_content for doc in docs]\n",
    "texts"
   ]
  },
  {
   "cell_type": "code",
   "execution_count": 28,
   "id": "e5587ca1",
   "metadata": {},
   "outputs": [
    {
     "data": {
      "text/plain": [
       "[0.38260984, 0.39937183]"
      ]
     },
     "execution_count": 28,
     "metadata": {},
     "output_type": "execute_result"
    }
   ],
   "source": [
    "scores = [doc[1] for doc in docs]\n",
    "scores"
   ]
  },
  {
   "cell_type": "code",
   "execution_count": 29,
   "id": "91cda395",
   "metadata": {},
   "outputs": [],
   "source": [
    "# Concatenate the relevant chunks into context\n",
    "context = \" \".join(texts)"
   ]
  },
  {
   "cell_type": "code",
   "execution_count": 30,
   "id": "b1759902",
   "metadata": {},
   "outputs": [
    {
     "data": {
      "text/plain": [
       "\"Thank you so much for this. Thank you for having me. Yeah, great to talk with you. Next time, Shervin and I talk with Stéphane Lanizot, Beauty Tech Program Director at L'Oreal. I'm always up for a good episode about cosmetics. Next time, Shervin and I talk with Stéphane Lanizot, Beauty Tech Program Director at L'Oreal. I'm always up for a good episode about cosmetics. Please join us. Thanks for listening to Me, Myself and AI. We believe, like you, that the conversation\""
      ]
     },
     "execution_count": 30,
     "metadata": {},
     "output_type": "execute_result"
    }
   ],
   "source": [
    "context"
   ]
  },
  {
   "cell_type": "markdown",
   "id": "65c1530d",
   "metadata": {},
   "source": [
    "#### Maximum Marginal Relevance\n",
    "- Does not seem to perform as well as cosine similarity"
   ]
  },
  {
   "cell_type": "code",
   "execution_count": 80,
   "id": "f08c434f",
   "metadata": {},
   "outputs": [],
   "source": [
    "# docs = docsearch.max_marginal_relevance_search(query, k=3)\n",
    "# docs[0].page_content"
   ]
  },
  {
   "cell_type": "code",
   "execution_count": 82,
   "id": "cb9c5c23",
   "metadata": {
    "scrolled": true
   },
   "outputs": [
    {
     "data": {
      "text/plain": [
       "[\"Thank you so much for this. Thank you for having me. Yeah, great to talk with you. Next time, Shervin and I talk with Stéphane Lanizot, Beauty Tech Program Director at L'Oreal. I'm always up for a good episode about cosmetics.\",\n",
       " \"But maybe we miss it someday. How's that working? How's that working out for you? I'll have to come back to that later episode and see how that plays out. But at least it's real time. You know, I'm trying to use the dog food of the things that we talk about on the show. Speaking of things we talk about on the show. How's that for a segue? So we have a segment where we ask our guests a series of rapid fire questions. And so the idea is you just hear this question and you give the first response that comes to your mind.\",\n",
       " \"that are being well received at L'Oreal? We are developing a solution to detect beauty trends. It's called Transporter. When you look at what is happening in the academic world, the research world, the macro influencer worlds, we are reading the different posts that they make on social media,\"]"
      ]
     },
     "execution_count": 82,
     "metadata": {},
     "output_type": "execute_result"
    }
   ],
   "source": [
    "# texts = [doc.page_content for doc in docs]\n",
    "# texts"
   ]
  },
  {
   "cell_type": "code",
   "execution_count": 83,
   "id": "c7f0797b",
   "metadata": {},
   "outputs": [],
   "source": [
    "# # Concatenate the relevant chunks into context\n",
    "# context = \" \".join(texts)"
   ]
  },
  {
   "cell_type": "markdown",
   "id": "f85f72bd",
   "metadata": {},
   "source": [
    "#### Prompt Setup"
   ]
  },
  {
   "cell_type": "code",
   "execution_count": 92,
   "id": "1103136e",
   "metadata": {},
   "outputs": [],
   "source": [
    "# Prompts\n",
    "system_template = f\"\"\"Use the following pieces of context to answer the question at the end. If you don't know the answer, just say that you don't know, don't try to make up an answer.\n",
    "\n",
    "{context}\n",
    "\n",
    "Helpful answer:\"\"\"\n",
    "\n",
    "messages = [\n",
    "    SystemMessagePromptTemplate.from_template(system_template),\n",
    "    HumanMessagePromptTemplate.from_template('{question}')\n",
    "]\n",
    "\n",
    "prompt = ChatPromptTemplate.from_messages(messages)"
   ]
  },
  {
   "cell_type": "code",
   "execution_count": 93,
   "id": "88d59b05",
   "metadata": {},
   "outputs": [
    {
     "data": {
      "text/plain": [
       "\"The guest in the L'Oreal episode is Stéphane Lanizot, Beauty Tech Program Director at L'Oreal.\""
      ]
     },
     "execution_count": 93,
     "metadata": {},
     "output_type": "execute_result"
    }
   ],
   "source": [
    "llm_chain = LLMChain(prompt=prompt, \n",
    "                     llm=llm, \n",
    "                     verbose=False)\n",
    "\n",
    "llm_chain.predict(question=query)"
   ]
  },
  {
   "cell_type": "code",
   "execution_count": 38,
   "id": "0300648c",
   "metadata": {},
   "outputs": [
    {
     "name": "stdout",
     "output_type": "stream",
     "text": [
      "https://open.spotify.com/episode/4v6mkOECXaX4WUReVgAk65\n",
      "https://open.spotify.com/episode/4v6mkOECXaX4WUReVgAk65\n"
     ]
    }
   ],
   "source": [
    "# Get metadata\n",
    "for doc in docs:\n",
    "    metadata = doc[0].metadata['url']\n",
    "    print(metadata)"
   ]
  },
  {
   "cell_type": "code",
   "execution_count": 33,
   "id": "f2bfff95",
   "metadata": {},
   "outputs": [],
   "source": [
    "test = 'https://open.spotify.com/episode/4v6mkOECXaX4WUReVgAk65'"
   ]
  },
  {
   "cell_type": "code",
   "execution_count": 39,
   "id": "9a7b1c07",
   "metadata": {},
   "outputs": [],
   "source": [
    "test2 = test.replace('.com/episode/', '.com/embed/episode/') + 'htest'"
   ]
  },
  {
   "cell_type": "code",
   "execution_count": 40,
   "id": "ad54d329",
   "metadata": {},
   "outputs": [
    {
     "data": {
      "text/plain": [
       "'https://open.spotify.com/embed/episode/4v6mkOECXaX4WUReVgAk65htest'"
      ]
     },
     "execution_count": 40,
     "metadata": {},
     "output_type": "execute_result"
    }
   ],
   "source": [
    "test2"
   ]
  },
  {
   "cell_type": "code",
   "execution_count": null,
   "id": "aa85febe",
   "metadata": {},
   "outputs": [],
   "source": [
    "https://open.spotify.com/embed/episode/3IagkEUqw4SGzeO4XzAbXd?utm_source=generator&t=60"
   ]
  },
  {
   "cell_type": "code",
   "execution_count": null,
   "id": "717ec439",
   "metadata": {},
   "outputs": [],
   "source": []
  },
  {
   "cell_type": "markdown",
   "id": "5997f16f",
   "metadata": {},
   "source": [
    "___\n",
    "### (2) RetrievalQA method"
   ]
  },
  {
   "cell_type": "code",
   "execution_count": 76,
   "id": "6d7758b3",
   "metadata": {
    "scrolled": true
   },
   "outputs": [
    {
     "data": {
      "text/plain": [
       "{'query': 'What is the name of the guest in the Starbucks episode?',\n",
       " 'result': 'The guest in the Starbucks episode is Jerry Martin Flitinger.',\n",
       " 'source_documents': [Document(page_content=\"Today we're talking with Jerry Martin Flitinger, former executive vice president and chief technology officer at Starbucks. Jerry, thanks for taking the time to talk with us. Welcome. Really great to have you here, Jerry. Thanks for having me.\", metadata={'date': 'Jan-22', 'end': 78.44, 'start': 64.08, 'title': \"Transforming a Technology Organization for the Future - Starbucks' Gerri Martin-Flickinger\", 'url': 'https://open.spotify.com/episode/3vYhtQxhoVY9jJfzDExafY'}),\n",
       "  Document(page_content=\"If you have a moment, please consider leaving us an Apple podcast review or a rating on Spotify and share our show with others you think might find it interesting and helpful. That's tricky because actually when you say latte, I know exactly what you mean because you mean exactly the one that I would drink. You don't mean the one that Shervin would drink. And to answer the question, you've got to answer it for every single person.\", metadata={'date': 'Jan-22', 'end': 856.6, 'start': 831.08, 'title': \"Transforming a Technology Organization for the Future - Starbucks' Gerri Martin-Flickinger\", 'url': 'https://open.spotify.com/episode/3vYhtQxhoVY9jJfzDExafY'}),\n",
       "  Document(page_content=\"name of IT to Starbucks Technology. Never used the word IT again. And if I was ever in a meeting where somebody said IT, I'd stop the meeting and I'd say, we don't have IT, we have a Starbucks Technology. And it's kind of funny because that one change made a big difference. The next thing that I think can make a difference is you need a tagline.\", metadata={'date': 'Jan-22', 'end': 1463.96, 'start': 1441.32, 'title': \"Transforming a Technology Organization for the Future - Starbucks' Gerri Martin-Flickinger\", 'url': 'https://open.spotify.com/episode/3vYhtQxhoVY9jJfzDExafY'}),\n",
       "  Document(page_content=\"I hate to say it, but everybody in business, everyone who's a CEO knows it. You got to tell your story and you don't get five hours to tell your story. You get six to 10 words and you better get people curious to ask more. And so put a tagline in place, super simple, talented technologists delivering today leading into the future. Starbucks Technology, that's it.\", metadata={'date': 'Jan-22', 'end': 1496.4399999999998, 'start': 1460.2, 'title': \"Transforming a Technology Organization for the Future - Starbucks' Gerri Martin-Flickinger\", 'url': 'https://open.spotify.com/episode/3vYhtQxhoVY9jJfzDExafY'}),\n",
       "  Document(page_content=\"we don't have IT, we have a Starbucks Technology. And it's kind of funny because that one change made a big difference. The next thing that I think can make a difference is you need a tagline. I hate to say it, but everybody in business, everyone who's a CEO knows it. You got to tell your story and you don't get five hours to tell your story. You get six to 10 words and you better get people curious to ask more.\", metadata={'date': 'Jan-22', 'end': 1480.6799999999998, 'start': 1449.48, 'title': \"Transforming a Technology Organization for the Future - Starbucks' Gerri Martin-Flickinger\", 'url': 'https://open.spotify.com/episode/3vYhtQxhoVY9jJfzDExafY'})]}"
      ]
     },
     "execution_count": 76,
     "metadata": {},
     "output_type": "execute_result"
    }
   ],
   "source": [
    "# qa = RetrievalQA.from_chain_type(llm=llm, \n",
    "#                                  chain_type=\"stuff\", \n",
    "#                                  retriever=docsearch.as_retriever(),\n",
    "#                                  return_source_documents=True)\n",
    "\n",
    "# query = \"What is the name of the guest in the Starbucks episode?\"\n",
    "# result = qa({\"query\": query})\n",
    "# result"
   ]
  },
  {
   "cell_type": "markdown",
   "id": "d1185c1e",
   "metadata": {},
   "source": [
    "___\n",
    "### (3) ConversationalRetrievalChain method"
   ]
  },
  {
   "cell_type": "code",
   "execution_count": 78,
   "id": "ad05878e",
   "metadata": {
    "scrolled": true
   },
   "outputs": [
    {
     "data": {
      "text/plain": [
       "{'question': 'What is the name of the guest in the Starbucks episode?',\n",
       " 'chat_history': [],\n",
       " 'answer': 'The guest in the Starbucks episode is Jerry Martin Flitinger.',\n",
       " 'source_documents': [Document(page_content=\"Today we're talking with Jerry Martin Flitinger, former executive vice president and chief technology officer at Starbucks. Jerry, thanks for taking the time to talk with us. Welcome. Really great to have you here, Jerry. Thanks for having me.\", metadata={'date': 'Jan-22', 'end': 78.44, 'start': 64.08, 'title': \"Transforming a Technology Organization for the Future - Starbucks' Gerri Martin-Flickinger\", 'url': 'https://open.spotify.com/episode/3vYhtQxhoVY9jJfzDExafY'}),\n",
       "  Document(page_content=\"If you have a moment, please consider leaving us an Apple podcast review or a rating on Spotify and share our show with others you think might find it interesting and helpful. That's tricky because actually when you say latte, I know exactly what you mean because you mean exactly the one that I would drink. You don't mean the one that Shervin would drink. And to answer the question, you've got to answer it for every single person.\", metadata={'date': 'Jan-22', 'end': 856.6, 'start': 831.08, 'title': \"Transforming a Technology Organization for the Future - Starbucks' Gerri Martin-Flickinger\", 'url': 'https://open.spotify.com/episode/3vYhtQxhoVY9jJfzDExafY'}),\n",
       "  Document(page_content=\"name of IT to Starbucks Technology. Never used the word IT again. And if I was ever in a meeting where somebody said IT, I'd stop the meeting and I'd say, we don't have IT, we have a Starbucks Technology. And it's kind of funny because that one change made a big difference. The next thing that I think can make a difference is you need a tagline.\", metadata={'date': 'Jan-22', 'end': 1463.96, 'start': 1441.32, 'title': \"Transforming a Technology Organization for the Future - Starbucks' Gerri Martin-Flickinger\", 'url': 'https://open.spotify.com/episode/3vYhtQxhoVY9jJfzDExafY'}),\n",
       "  Document(page_content=\"I hate to say it, but everybody in business, everyone who's a CEO knows it. You got to tell your story and you don't get five hours to tell your story. You get six to 10 words and you better get people curious to ask more. And so put a tagline in place, super simple, talented technologists delivering today leading into the future. Starbucks Technology, that's it.\", metadata={'date': 'Jan-22', 'end': 1496.4399999999998, 'start': 1460.2, 'title': \"Transforming a Technology Organization for the Future - Starbucks' Gerri Martin-Flickinger\", 'url': 'https://open.spotify.com/episode/3vYhtQxhoVY9jJfzDExafY'}),\n",
       "  Document(page_content=\"we don't have IT, we have a Starbucks Technology. And it's kind of funny because that one change made a big difference. The next thing that I think can make a difference is you need a tagline. I hate to say it, but everybody in business, everyone who's a CEO knows it. You got to tell your story and you don't get five hours to tell your story. You get six to 10 words and you better get people curious to ask more.\", metadata={'date': 'Jan-22', 'end': 1480.6799999999998, 'start': 1449.48, 'title': \"Transforming a Technology Organization for the Future - Starbucks' Gerri Martin-Flickinger\", 'url': 'https://open.spotify.com/episode/3vYhtQxhoVY9jJfzDExafY'})]}"
      ]
     },
     "execution_count": 78,
     "metadata": {},
     "output_type": "execute_result"
    }
   ],
   "source": [
    "# qa = ConversationalRetrievalChain.from_llm(llm=llm, \n",
    "#                                            retriever=docsearch.as_retriever(),\n",
    "#                                            return_source_documents=True)\n",
    "\n",
    "# chat_history = []\n",
    "\n",
    "# query = \"What is the name of the guest in the Starbucks episode?\"\n",
    "# result = qa({\"question\": query, \"chat_history\": chat_history})\n",
    "\n",
    "# result"
   ]
  }
 ],
 "metadata": {
  "kernelspec": {
   "display_name": "chat_podcast_venv",
   "language": "python",
   "name": "chat_podcast_venv"
  },
  "language_info": {
   "codemirror_mode": {
    "name": "ipython",
    "version": 3
   },
   "file_extension": ".py",
   "mimetype": "text/x-python",
   "name": "python",
   "nbconvert_exporter": "python",
   "pygments_lexer": "ipython3",
   "version": "3.9.12"
  }
 },
 "nbformat": 4,
 "nbformat_minor": 5
}
