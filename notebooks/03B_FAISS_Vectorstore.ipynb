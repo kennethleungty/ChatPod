{
 "cells": [
  {
   "cell_type": "markdown",
   "metadata": {
    "id": "rWw5wxvOseAK"
   },
   "source": [
    "# Chat Podcast\n",
    "\n",
    "Author: Kenneth Leung\n",
    "\n",
    "## 03B. FAISS Vectorstore\n",
    "- Use FAISS to build vectorstores of transcripts\n",
    "- https://github.com/hwchase17/langchain/blob/master/langchain/vectorstores/faiss.py"
   ]
  },
  {
   "cell_type": "markdown",
   "metadata": {
    "id": "kxYp1BiVskb8"
   },
   "source": [
    "___\n",
    "## (1) Install and Import Dependencies"
   ]
  },
  {
   "cell_type": "code",
   "execution_count": 1,
   "metadata": {
    "id": "42re6SF_pLzW"
   },
   "outputs": [],
   "source": [
    "import json\n",
    "import os\n",
    "import pandas as pd\n",
    "import yaml\n",
    "from dotenv import load_dotenv\n",
    "from pathlib import Path\n",
    "from langchain.embeddings.openai import OpenAIEmbeddings\n",
    "from langchain.vectorstores import FAISS"
   ]
  },
  {
   "cell_type": "markdown",
   "metadata": {
    "id": "kxYp1BiVskb8"
   },
   "source": [
    "___\n",
    "## (2) Configuration Settings"
   ]
  },
  {
   "cell_type": "code",
   "execution_count": 2,
   "metadata": {},
   "outputs": [],
   "source": [
    "os.environ['OPENAI_API_KEY'] = 'your_key_here'"
   ]
  },
  {
   "cell_type": "code",
   "execution_count": 3,
   "metadata": {
    "id": "qVzJFzw_rhMQ"
   },
   "outputs": [],
   "source": [
    "# Config settings\n",
    "AUDIO_PATH = '../audio'\n",
    "TRANSCRIPT_PATH = '../transcripts'"
   ]
  },
  {
   "cell_type": "markdown",
   "metadata": {
    "id": "_B3LXkKetod2"
   },
   "source": [
    "___\n",
    "## (3) Processing of Transcripts"
   ]
  },
  {
   "cell_type": "code",
   "execution_count": 68,
   "metadata": {
    "colab": {
     "base_uri": "https://localhost:8080/"
    },
    "id": "YPKjSLtWyb0Q",
    "outputId": "ef0817c2-fd2c-424d-d622-84f5b05d1392",
    "scrolled": true
   },
   "outputs": [
    {
     "data": {
      "text/plain": [
       "[\"..\\\\transcripts\\\\A One-Stop Data Shop - The Lego Group's Anders Butzbach Christensen.jsonl\",\n",
       " \"..\\\\transcripts\\\\AI in Aerospace - Boeing's Helen Lee.jsonl\",\n",
       " \"..\\\\transcripts\\\\AI in Your Living Room - Peloton's Sanjay Nichani.jsonl\",\n",
       " \"..\\\\transcripts\\\\AI in the Supply Chain - Cold Chain Technologies' Ranjeet Banerjee.jsonl\",\n",
       " \"..\\\\transcripts\\\\Big Data in Agriculture - Land O'Lakes' Teddy Bekele.jsonl\",\n",
       " \"..\\\\transcripts\\\\Choreographing Human-Machine Collaboration - Spotify's Sidney Madison Prescott.jsonl\",\n",
       " \"..\\\\transcripts\\\\Digital First, Physical Second - Wayfair's Fiona Tan.jsonl\",\n",
       " \"..\\\\transcripts\\\\Extreme Innovation with AI - Stanley Black and Decker's Mark Maybury.jsonl\",\n",
       " \"..\\\\transcripts\\\\From Data to Wisdom - Novo Nordisk's Tonia Sideri.jsonl\",\n",
       " \"..\\\\transcripts\\\\From Journalism to Jeans - Levi Strauss' Katia Walsh.jsonl\",\n",
       " \"..\\\\transcripts\\\\Helping Doctors Make Better Decisions with Data - UC Berkley's Ziad Obermeyer.jsonl\",\n",
       " \"..\\\\transcripts\\\\Imagining Furniture (and the Future) with AI - IKEA Retail's Barbara Martin Coppola.jsonl\",\n",
       " \"..\\\\transcripts\\\\Inventing the Beauty of the Future - L'Oreal's Stephane Lannuzel.jsonl\",\n",
       " \"..\\\\transcripts\\\\Investing in the Last Mile - PayPal's Khatereh Khodavirdi.jsonl\",\n",
       " \"..\\\\transcripts\\\\Keeping Humans in the (Feedback) Loop - Orangetheory Fitness' Ameen Kazerouni.jsonl\",\n",
       " \"..\\\\transcripts\\\\Out of the Lab and Into a Product - Microsoft's Eric Boyd.jsonl\",\n",
       " \"..\\\\transcripts\\\\Precision Medicine in Pharma - Sanofi's Frank Nestle.jsonl\",\n",
       " \"..\\\\transcripts\\\\The Beauty of AI - Estee Lauder's Sowmya Gottipati.jsonl\",\n",
       " \"..\\\\transcripts\\\\The Collaboration Muscle - LinkedIn's Ya Xu.jsonl\",\n",
       " \"..\\\\transcripts\\\\The Three Roles of the Chief Data Officer - ADP's Jack Berkowitz.jsonl\",\n",
       " \"..\\\\transcripts\\\\Transforming Transactions with Technology - eBay's Nitzan Mekel-Bobrov.jsonl\",\n",
       " \"..\\\\transcripts\\\\Transforming a Technology Organization for the Future - Starbucks' Gerri Martin-Flickinger.jsonl\",\n",
       " \"..\\\\transcripts\\\\Turning Sound Into Information - Warner Music Group's Kobi Abayomi.jsonl\"]"
      ]
     },
     "execution_count": 68,
     "metadata": {},
     "output_type": "execute_result"
    }
   ],
   "source": [
    "# View all transcribed files\n",
    "transcripts = sorted([str(x) for x in Path(TRANSCRIPT_PATH).glob('*.jsonl')])\n",
    "transcripts"
   ]
  },
  {
   "cell_type": "code",
   "execution_count": 69,
   "metadata": {
    "id": "R1hf3gsSsvzh"
   },
   "outputs": [],
   "source": [
    "lines = []\n",
    "\n",
    "# Combine all JSONL files together\n",
    "for transcript in transcripts:\n",
    "    with open(transcript, \"r\", encoding=\"utf-8\") as fp:\n",
    "        for line in fp:\n",
    "            line = json.loads(line) # Convert string dictionary to dict\n",
    "            lines.append(line)"
   ]
  },
  {
   "cell_type": "code",
   "execution_count": 70,
   "metadata": {
    "colab": {
     "base_uri": "https://localhost:8080/"
    },
    "id": "ehnMB0cBsvwr",
    "outputId": "f6222924-58c5-445f-b4e1-78672c2e405d"
   },
   "outputs": [
    {
     "name": "stdout",
     "output_type": "stream",
     "text": [
      "7682\n"
     ]
    }
   ],
   "source": [
    "print(len(lines))"
   ]
  },
  {
   "cell_type": "code",
   "execution_count": 71,
   "metadata": {
    "colab": {
     "base_uri": "https://localhost:8080/"
    },
    "id": "8GmBbj9gtvS9",
    "outputId": "7bd88050-e0b3-40b9-db4a-454419a6222e"
   },
   "outputs": [
    {
     "data": {
      "text/plain": [
       "{'title': \"A One-Stop Data Shop - The Lego Group's Anders Butzbach Christensen\",\n",
       " 'date': '2023-03-28 07:00:00+00:00',\n",
       " 'url': 'https://open.spotify.com/episode/1uTJp2EeePc29X4N1OsGoo',\n",
       " 'id': \"A One-Stop Data Shop - The Lego Group's Anders Butzbach Christensen-t23.240000000000002\",\n",
       " 'text': 'Welcome to Me, Myself and AI, a podcast on artificial intelligence and business.',\n",
       " 'start': 23.240000000000002,\n",
       " 'end': 28.34}"
      ]
     },
     "execution_count": 71,
     "metadata": {},
     "output_type": "execute_result"
    }
   ],
   "source": [
    "lines[6]"
   ]
  },
  {
   "cell_type": "code",
   "execution_count": 72,
   "metadata": {
    "colab": {
     "base_uri": "https://localhost:8080/"
    },
    "id": "WdwVo6z9vdTX",
    "outputId": "f7a2db08-2e94-4f92-a173-5fe55489cea5"
   },
   "outputs": [
    {
     "name": "stdout",
     "output_type": "stream",
     "text": [
      "and AI.\n",
      "Welcome to Me, Myself and AI, a podcast on artificial intelligence and business.\n",
      "Each episode, we introduce you to someone innovating with AI.\n"
     ]
    }
   ],
   "source": [
    "# Check text in every segment\n",
    "for chunk in lines[5:8]:\n",
    "    print(chunk['text'])"
   ]
  },
  {
   "cell_type": "markdown",
   "metadata": {},
   "source": [
    "___\n",
    "## (4) Extend Segment Texts\n",
    "- We do not want each segment to be only one phrase/sentence long\n",
    "- To make the indexing more useful and logical, we combine the texts of multiple segments together"
   ]
  },
  {
   "cell_type": "code",
   "execution_count": 73,
   "metadata": {
    "id": "g2qtVLf_-_DF"
   },
   "outputs": [],
   "source": [
    "# Chunking and striding\n",
    "new_segments = []\n",
    "\n",
    "chunk_size = 6  # No. of segment texts to combine\n",
    "chunk_overlap = 3  # No. of segment texts to overlap\n",
    "\n",
    "for i in range(0, len(lines), chunk_overlap):\n",
    "    i_end = min(len(lines)-1, i + chunk_size)\n",
    "    if lines[i]['title'] != lines[i_end]['title']:\n",
    "        # Skip if audio file names are same\n",
    "        continue\n",
    "    text_list = []\n",
    "    for chunk in lines[i:i_end]:\n",
    "        text_list.append(chunk['text'])\n",
    "    text = ' '.join(text_list)\n",
    "    new_segments.append({\n",
    "        'start': lines[i]['start'],\n",
    "        'end': lines[i_end]['end'],\n",
    "        'title': lines[i]['title'],\n",
    "        'text': text,\n",
    "        'id': lines[i]['id'],\n",
    "        'url': lines[i]['url'],\n",
    "        'date': lines[i]['date']\n",
    "    })"
   ]
  },
  {
   "cell_type": "code",
   "execution_count": 74,
   "metadata": {
    "colab": {
     "base_uri": "https://localhost:8080/"
    },
    "id": "-LAF21xhya22",
    "outputId": "6fc1ce11-0eb6-4038-988a-b6fc96237f43"
   },
   "outputs": [
    {
     "data": {
      "text/plain": [
       "2517"
      ]
     },
     "execution_count": 74,
     "metadata": {},
     "output_type": "execute_result"
    }
   ],
   "source": [
    "len(new_segments)"
   ]
  },
  {
   "cell_type": "code",
   "execution_count": 75,
   "metadata": {
    "colab": {
     "base_uri": "https://localhost:8080/"
    },
    "id": "mfwulaHaycE_",
    "outputId": "066a5fcc-dbd3-4196-904b-b129e145a62a"
   },
   "outputs": [
    {
     "data": {
      "text/plain": [
       "{'start': 171.04,\n",
       " 'end': 191.76,\n",
       " 'title': \"Out of the Lab and Into a Product - Microsoft's Eric Boyd\",\n",
       " 'text': \"components and delivering them. How do you know what to build? How do you tell people how to use them? How does this work? How does this infrastructure and ecosystem start to play out? Yeah. I mean, we're pretty privileged at Microsoft to have a whole bunch of different businesses that we've been in for a while.\",\n",
       " 'id': \"Out of the Lab and Into a Product - Microsoft's Eric Boyd-t171.04\",\n",
       " 'url': 'https://open.spotify.com/episode/5XDcsbVuaQGkhs5m5Y4RfE',\n",
       " 'date': 'Feb-23'}"
      ]
     },
     "execution_count": 75,
     "metadata": {},
     "output_type": "execute_result"
    }
   ],
   "source": [
    "new_segments[1636]"
   ]
  },
  {
   "cell_type": "markdown",
   "metadata": {},
   "source": [
    "___\n",
    "## (5) Setup Vectorstore with FAISS"
   ]
  },
  {
   "cell_type": "code",
   "execution_count": 76,
   "metadata": {
    "id": "ldz1NNkY_BAr"
   },
   "outputs": [],
   "source": [
    "embeddings = OpenAIEmbeddings(openai_api_key=os.environ['OPENAI_API_KEY'])"
   ]
  },
  {
   "cell_type": "code",
   "execution_count": 77,
   "metadata": {
    "colab": {
     "base_uri": "https://localhost:8080/"
    },
    "id": "l5YK8AceVSPE",
    "outputId": "07d9a793-fb22-4487-e4ff-99691df424c5"
   },
   "outputs": [
    {
     "data": {
      "text/plain": [
       "{'start': 0.0,\n",
       " 'end': 28.34,\n",
       " 'title': \"A One-Stop Data Shop - The Lego Group's Anders Butzbach Christensen\",\n",
       " 'text': \"Our guests often use Lego as an analogy for how organizations can build up solutions with data. But today, find out how Lego itself builds data components that connect as easily as it breaks. I'm Anders Putschbard-Kressensson from the Lego Group and you're listening to Me, Myself and AI.\",\n",
       " 'id': \"A One-Stop Data Shop - The Lego Group's Anders Butzbach Christensen-t0.0\",\n",
       " 'url': 'https://open.spotify.com/episode/1uTJp2EeePc29X4N1OsGoo',\n",
       " 'date': '2023-03-28 07:00:00+00:00'}"
      ]
     },
     "execution_count": 77,
     "metadata": {},
     "output_type": "execute_result"
    }
   ],
   "source": [
    "new_segments[0]"
   ]
  },
  {
   "cell_type": "code",
   "execution_count": 78,
   "metadata": {
    "id": "4hlAcPyOUlYb"
   },
   "outputs": [],
   "source": [
    "# Convert segments into three lists for vectorstore upsert\n",
    "texts = [elem['text'] for elem in new_segments]\n",
    "ids = [elem['id'] for elem in new_segments]\n",
    "metadatas = [{\n",
    "#             \"text\": elem[\"text\"],\n",
    "            \"start\": elem[\"start\"],\n",
    "            \"end\": elem[\"end\"],\n",
    "            \"url\": elem[\"url\"],\n",
    "            \"date\": elem[\"date\"],\n",
    "            \"title\": elem[\"title\"]\n",
    "            } for elem in new_segments]"
   ]
  },
  {
   "cell_type": "markdown",
   "metadata": {},
   "source": [
    "##### Note that OpenAI Embeddings have token limit of ~8000"
   ]
  },
  {
   "cell_type": "code",
   "execution_count": 79,
   "metadata": {
    "id": "bniNtqzCUWU1"
   },
   "outputs": [],
   "source": [
    "docsearch = FAISS.from_texts(texts=texts, \n",
    "                             embedding=embeddings, \n",
    "                             metadatas=metadatas)"
   ]
  },
  {
   "cell_type": "code",
   "execution_count": null,
   "metadata": {},
   "outputs": [],
   "source": [
    "docsearch.save_local(f'{AUDIO_PATH}/vectorstore')"
   ]
  },
  {
   "cell_type": "code",
   "execution_count": 29,
   "metadata": {},
   "outputs": [],
   "source": [
    "docsearch = FAISS.load_local(f'{AUDIO_PATH}/vectorstore', embeddings)"
   ]
  },
  {
   "cell_type": "markdown",
   "metadata": {},
   "source": [
    "___\n",
    "## (6) Check using Vector Similarity Search"
   ]
  },
  {
   "cell_type": "code",
   "execution_count": 30,
   "metadata": {
    "id": "sPMRZe1-1vG2"
   },
   "outputs": [],
   "source": [
    "query = \"Which guest was invited to talk about the airline industry?\"\n",
    "docs = docsearch.similarity_search(query)"
   ]
  },
  {
   "cell_type": "code",
   "execution_count": 31,
   "metadata": {
    "colab": {
     "base_uri": "https://localhost:8080/"
    },
    "id": "HfxeRLw4Xa3V",
    "outputId": "3dc4e848-3111-4d93-d9d2-806b6c128c44"
   },
   "outputs": [
    {
     "name": "stdout",
     "output_type": "stream",
     "text": [
      "Shervin are excited to be talking today with Helen Li, Regional Director of Air Traffic Management and Airport Programs in China for the Boeing Company. Helen, thanks for taking the time to talk with us. Welcome. Thank you for having me. Let's get started. Helen, can you tell us about your current role at Boeing? I currently work at Boeing China in the Beijing office.\n"
     ]
    }
   ],
   "source": [
    "print(docs[0].page_content)"
   ]
  }
 ],
 "metadata": {
  "accelerator": "GPU",
  "colab": {
   "provenance": []
  },
  "gpuClass": "standard",
  "kernelspec": {
   "display_name": "chat_podcast_venv",
   "language": "python",
   "name": "chat_podcast_venv"
  },
  "language_info": {
   "codemirror_mode": {
    "name": "ipython",
    "version": 3
   },
   "file_extension": ".py",
   "mimetype": "text/x-python",
   "name": "python",
   "nbconvert_exporter": "python",
   "pygments_lexer": "ipython3",
   "version": "3.9.12"
  }
 },
 "nbformat": 4,
 "nbformat_minor": 1
}
