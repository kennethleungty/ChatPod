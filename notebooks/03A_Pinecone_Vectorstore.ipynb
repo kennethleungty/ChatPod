{
 "cells": [
  {
   "cell_type": "markdown",
   "metadata": {
    "id": "rWw5wxvOseAK"
   },
   "source": [
    "# Chat Podcast\n",
    "\n",
    "Author: Kenneth Leung\n",
    "\n",
    "## 03A. Pinecone Vectorstore\n",
    "- Use Pinecone to build vectorstores of transcripts"
   ]
  },
  {
   "cell_type": "markdown",
   "metadata": {
    "id": "kxYp1BiVskb8"
   },
   "source": [
    "___\n",
    "## (1) Install and Import Dependencies"
   ]
  },
  {
   "cell_type": "code",
   "execution_count": null,
   "metadata": {
    "id": "42re6SF_pLzW"
   },
   "outputs": [],
   "source": [
    "import json\n",
    "import os\n",
    "import pandas as pd\n",
    "import pinecone\n",
    "import yaml\n",
    "from dotenv import load_dotenv\n",
    "from pathlib import Path\n",
    "from langchain.embeddings.openai import OpenAIEmbeddings\n",
    "from langchain.vectorstores import Pinecone"
   ]
  },
  {
   "cell_type": "markdown",
   "metadata": {
    "id": "kxYp1BiVskb8"
   },
   "source": [
    "___\n",
    "## (2) Configuration Settings"
   ]
  },
  {
   "cell_type": "code",
   "execution_count": 4,
   "metadata": {
    "id": "qVzJFzw_rhMQ"
   },
   "outputs": [],
   "source": [
    "# Config settings\n",
    "TRANSCRIPT_PATH = '../transcripts'"
   ]
  },
  {
   "cell_type": "code",
   "execution_count": null,
   "metadata": {},
   "outputs": [],
   "source": [
    "os.environ['PINECONE_API_KEY'] = 'your_key_here'\n",
    "os.environ['PINECONE_ENV'] = 'your_key_here'\n",
    "os.environ['OPENAI_API_KEY']\n",
    "# load_dotenv(dotenv_path='.env', verbose=True)"
   ]
  },
  {
   "cell_type": "markdown",
   "metadata": {
    "id": "_B3LXkKetod2"
   },
   "source": [
    "___\n",
    "## (3) Processing of Transcripts"
   ]
  },
  {
   "cell_type": "code",
   "execution_count": 5,
   "metadata": {
    "colab": {
     "base_uri": "https://localhost:8080/"
    },
    "id": "YPKjSLtWyb0Q",
    "outputId": "ef0817c2-fd2c-424d-d622-84f5b05d1392",
    "scrolled": true
   },
   "outputs": [
    {
     "data": {
      "text/plain": [
       "[\"..\\\\transcripts\\\\A Third Path to Talent Development - Delta's Michelle McCrackin.jsonl\",\n",
       " \"..\\\\transcripts\\\\AI in Aerospace - Boeing's Helen Lee.jsonl\",\n",
       " \"..\\\\transcripts\\\\AI in Your Living Room - Peloton's Sanjay Nichani.jsonl\",\n",
       " \"..\\\\transcripts\\\\Big Data in Agriculture - Land O'Lakes' Teddy Bekele.jsonl\",\n",
       " \"..\\\\transcripts\\\\Choreographing Human-Machine Collaboration - Spotify's Sidney Madison Prescott.jsonl\",\n",
       " \"..\\\\transcripts\\\\Digital First, Physical Second - Wayfair's Fiona Tan.jsonl\",\n",
       " \"..\\\\transcripts\\\\Extreme Innovation with AI - Stanley Black and Decker's Mark Maybury.jsonl\",\n",
       " \"..\\\\transcripts\\\\From Data to Wisdom - Novo Nordisk's Tonia Sideri.jsonl\",\n",
       " \"..\\\\transcripts\\\\From Journalism to Jeans - Levi Strauss' Katia Walsh.jsonl\",\n",
       " \"..\\\\transcripts\\\\Helping Doctors Make Better Decisions with Data - UC Berkley's Ziad Obermeyer.jsonl\",\n",
       " \"..\\\\transcripts\\\\Imagining Furniture (and the Future) with AI - IKEA Retail's Barbara Martin Coppola.jsonl\",\n",
       " \"..\\\\transcripts\\\\Inventing the Beauty of the Future - L'Oreal's Stephane Lannuzel.jsonl\",\n",
       " \"..\\\\transcripts\\\\Investing in the Last Mile - PayPal's Khatereh Khodavirdi.jsonl\",\n",
       " \"..\\\\transcripts\\\\Keeping Humans in the (Feedback) Loop - Orangetheory Fitness' Ameen Kazerouni.jsonl\",\n",
       " \"..\\\\transcripts\\\\Out of the Lab and Into a Product - Microsoft's Eric Boyd.jsonl\",\n",
       " \"..\\\\transcripts\\\\Precision Medicine in Pharma - Sanofi's Frank Nestle.jsonl\",\n",
       " \"..\\\\transcripts\\\\The Beauty of AI - Estee Lauder's Sowmya Gottipati.jsonl\",\n",
       " \"..\\\\transcripts\\\\The Collaboration Muscle - LinkedIn's Ya Xu.jsonl\",\n",
       " \"..\\\\transcripts\\\\The Three Roles of the Chief Data Officer - ADP's Jack Berkowitz.jsonl\",\n",
       " \"..\\\\transcripts\\\\Transforming Transactions with Technology - eBay's Nitzan Mekel-Bobrov.jsonl\",\n",
       " \"..\\\\transcripts\\\\Transforming a Technology Organization for the Future - Starbucks' Gerri Martin-Flickinger.jsonl\",\n",
       " \"..\\\\transcripts\\\\Turning Sound Into Information - Warner Music Group's Kobi Abayomi.jsonl\"]"
      ]
     },
     "execution_count": 5,
     "metadata": {},
     "output_type": "execute_result"
    }
   ],
   "source": [
    "# View all transcribed files\n",
    "transcripts = sorted([str(x) for x in Path(TRANSCRIPT_PATH).glob('*.jsonl')])\n",
    "transcripts"
   ]
  },
  {
   "cell_type": "code",
   "execution_count": 6,
   "metadata": {
    "id": "R1hf3gsSsvzh"
   },
   "outputs": [],
   "source": [
    "lines = []\n",
    "\n",
    "# Combine all JSONL files together\n",
    "for transcript in transcripts:\n",
    "    with open(transcript, \"r\", encoding=\"utf-8\") as fp:\n",
    "        for line in fp:\n",
    "            line = json.loads(line) # Convert string dictionary to dict\n",
    "            lines.append(line)"
   ]
  },
  {
   "cell_type": "code",
   "execution_count": 7,
   "metadata": {
    "colab": {
     "base_uri": "https://localhost:8080/"
    },
    "id": "ehnMB0cBsvwr",
    "outputId": "f6222924-58c5-445f-b4e1-78672c2e405d"
   },
   "outputs": [
    {
     "name": "stdout",
     "output_type": "stream",
     "text": [
      "7152\n"
     ]
    }
   ],
   "source": [
    "print(len(lines))"
   ]
  },
  {
   "cell_type": "code",
   "execution_count": 8,
   "metadata": {
    "colab": {
     "base_uri": "https://localhost:8080/"
    },
    "id": "8GmBbj9gtvS9",
    "outputId": "7bd88050-e0b3-40b9-db4a-454419a6222e"
   },
   "outputs": [
    {
     "data": {
      "text/plain": [
       "{'title': \"A Third Path to Talent Development - Delta's Michelle McCrackin\",\n",
       " 'date': 'Mar-23',\n",
       " 'url': 'https://open.spotify.com/episode/50oRprIC6z0wJkpfLFQHDi',\n",
       " 'id': \"A Third Path to Talent Development - Delta's Michelle McCrackin-t32.56\",\n",
       " 'text': \"I'm also the AI and Business Strategy guest editor at MIT Sloan Management Review.\",\n",
       " 'start': 32.56,\n",
       " 'end': 38.019999999999996}"
      ]
     },
     "execution_count": 8,
     "metadata": {},
     "output_type": "execute_result"
    }
   ],
   "source": [
    "lines[6]"
   ]
  },
  {
   "cell_type": "code",
   "execution_count": 11,
   "metadata": {
    "colab": {
     "base_uri": "https://localhost:8080/"
    },
    "id": "WdwVo6z9vdTX",
    "outputId": "f7a2db08-2e94-4f92-a173-5fe55489cea5"
   },
   "outputs": [
    {
     "name": "stdout",
     "output_type": "stream",
     "text": [
      "I'm Sam Ransbotham, Professor of Analytics at Boston College.\n",
      "I'm also the AI and Business Strategy guest editor at MIT Sloan Management Review.\n",
      "And I'm Shervin Kottubande, senior partner with BCG and one of the leaders of our AI business.\n"
     ]
    }
   ],
   "source": [
    "# Check text in every segment\n",
    "for chunk in lines[5:8]:\n",
    "    print(chunk['text'])"
   ]
  },
  {
   "cell_type": "markdown",
   "metadata": {},
   "source": [
    "___\n",
    "## (4) Extend Segment Texts\n",
    "- We do not want each segment to be only one phrase/sentence long\n",
    "- To make the indexing more useful and logical, we combine the texts of multiple segments together"
   ]
  },
  {
   "cell_type": "code",
   "execution_count": 12,
   "metadata": {
    "id": "g2qtVLf_-_DF"
   },
   "outputs": [],
   "source": [
    "# Chunking and striding\n",
    "new_segments = []\n",
    "\n",
    "chunk_size = 6  # No. of segment texts to combine\n",
    "chunk_overlap = 3  # No. of segment texts to overlap\n",
    "\n",
    "for i in range(0, len(lines), chunk_overlap):\n",
    "    i_end = min(len(lines)-1, i + chunk_size)\n",
    "    if lines[i]['title'] != lines[i_end]['title']:\n",
    "        # Skip if audio file names are same\n",
    "        continue\n",
    "    text_list = []\n",
    "    for chunk in lines[i:i_end]:\n",
    "        text_list.append(chunk['text'])\n",
    "    text = ' '.join(text_list)\n",
    "    new_segments.append({\n",
    "        'start': lines[i]['start'],\n",
    "        'end': lines[i_end]['end'],\n",
    "        'title': lines[i]['title'],\n",
    "        'text': text,\n",
    "        'id': lines[i]['id'],\n",
    "        'url': lines[i]['url'],\n",
    "        'date': lines[i]['date']\n",
    "    })"
   ]
  },
  {
   "cell_type": "code",
   "execution_count": 13,
   "metadata": {
    "colab": {
     "base_uri": "https://localhost:8080/"
    },
    "id": "-LAF21xhya22",
    "outputId": "6fc1ce11-0eb6-4038-988a-b6fc96237f43"
   },
   "outputs": [
    {
     "data": {
      "text/plain": [
       "2342"
      ]
     },
     "execution_count": 13,
     "metadata": {},
     "output_type": "execute_result"
    }
   ],
   "source": [
    "len(new_segments)"
   ]
  },
  {
   "cell_type": "code",
   "execution_count": 14,
   "metadata": {
    "colab": {
     "base_uri": "https://localhost:8080/"
    },
    "id": "mfwulaHaycE_",
    "outputId": "066a5fcc-dbd3-4196-904b-b129e145a62a"
   },
   "outputs": [
    {
     "data": {
      "text/plain": [
       "{'start': 0.0,\n",
       " 'end': 38.019999999999996,\n",
       " 'title': \"A Third Path to Talent Development - Delta's Michelle McCrackin\",\n",
       " 'text': \"How can organizations take advantage of existing deep domain knowledge? Find out how one airline is upscaling its frontline workforce on today's episode. I'm Michelle McCracken from Delta Airlines and you're listening to Me, Myself and AI. Welcome to Me, Myself and AI, a podcast on artificial intelligence and business. Each episode we introduce you to someone innovating with AI. I'm Sam Ransbotham, Professor of Analytics at Boston College.\",\n",
       " 'id': \"A Third Path to Talent Development - Delta's Michelle McCrackin-t0.0\",\n",
       " 'url': 'https://open.spotify.com/episode/50oRprIC6z0wJkpfLFQHDi',\n",
       " 'date': 'Mar-23'}"
      ]
     },
     "execution_count": 14,
     "metadata": {},
     "output_type": "execute_result"
    }
   ],
   "source": [
    "new_segments[0]"
   ]
  },
  {
   "cell_type": "markdown",
   "metadata": {},
   "source": [
    "___\n",
    "## (5) Setup Vectorstore with Pinecone"
   ]
  },
  {
   "cell_type": "code",
   "execution_count": null,
   "metadata": {
    "id": "ldz1NNkY_BAr"
   },
   "outputs": [],
   "source": [
    "embeddings = OpenAIEmbeddings(openai_api_key=os.environ['OPENAI_API_KEY'])"
   ]
  },
  {
   "cell_type": "code",
   "execution_count": null,
   "metadata": {
    "colab": {
     "base_uri": "https://localhost:8080/"
    },
    "id": "FZZ-PJwOSWbp",
    "outputId": "f47be6cc-5409-4a0e-a622-e3092609f65e"
   },
   "outputs": [
    {
     "data": {
      "text/plain": [
       "{'dimension': 1536,\n",
       " 'index_fullness': 0.0,\n",
       " 'namespaces': {},\n",
       " 'total_vector_count': 0}"
      ]
     },
     "execution_count": 33,
     "metadata": {},
     "output_type": "execute_result"
    }
   ],
   "source": [
    "# Initialize pinecone instance\n",
    "pinecone.init(\n",
    "    api_key=os.environ['PINECONE_API_KEY'],\n",
    "    environment=os.environ['PINECONE_ENV'])\n",
    "\n",
    "index_name = \"chat-podcast\"\n",
    "\n",
    "if index_name not in pinecone.list_indexes():\n",
    "    pinecone.create_index(\n",
    "        index_name,\n",
    "        1536, # Dimensions of OpenAI embeddings\n",
    "        metric=\"cosine\"\n",
    "    )\n",
    "\n",
    "index = pinecone.Index(index_name)\n",
    "index.describe_index_stats()"
   ]
  },
  {
   "cell_type": "code",
   "execution_count": null,
   "metadata": {
    "colab": {
     "base_uri": "https://localhost:8080/"
    },
    "id": "l5YK8AceVSPE",
    "outputId": "07d9a793-fb22-4487-e4ff-99691df424c5"
   },
   "outputs": [
    {
     "data": {
      "text/plain": [
       "{'start': 0.0,\n",
       " 'end': 38.019999999999996,\n",
       " 'title': \"A Third Path to Talent Development - Delta's Michelle McCrackin\",\n",
       " 'text': \"How can organizations take advantage of existing deep domain knowledge? Find out how one airline is upscaling its frontline workforce on today's episode. I'm Michelle McCracken from Delta Airlines and you're listening to Me, Myself and AI. Welcome to Me, Myself and AI, a podcast on artificial intelligence and business. Each episode we introduce you to someone innovating with AI. I'm Sam Ransbotham, Professor of Analytics at Boston College.\",\n",
       " 'id': \"A Third Path to Talent Development - Delta's Michelle McCrackin-t0.0\",\n",
       " 'url': 'https://open.spotify.com/episode/50oRprIC6z0wJkpfLFQHDi',\n",
       " 'date': 'Mar-23'}"
      ]
     },
     "execution_count": 35,
     "metadata": {},
     "output_type": "execute_result"
    }
   ],
   "source": [
    "new_segments[0]"
   ]
  },
  {
   "cell_type": "code",
   "execution_count": null,
   "metadata": {
    "id": "4hlAcPyOUlYb"
   },
   "outputs": [],
   "source": [
    "# Convert segments into three lists for vectorstore upsert\n",
    "texts = [elem['text'] for elem in new_segments]\n",
    "ids = [elem['id'] for elem in new_segments]\n",
    "metadatas = [{\n",
    "            \"text\": elem[\"text\"],\n",
    "            \"start\": elem[\"start\"],\n",
    "            \"end\": elem[\"end\"],\n",
    "            \"url\": elem[\"url\"],\n",
    "            \"date\": elem[\"date\"],\n",
    "            \"title\": elem[\"title\"]\n",
    "            } for elem in new_segments]"
   ]
  },
  {
   "cell_type": "code",
   "execution_count": null,
   "metadata": {
    "id": "bniNtqzCUWU1"
   },
   "outputs": [],
   "source": [
    "docsearch = Pinecone.from_texts(texts=texts, \n",
    "                                embedding=embeddings, \n",
    "                                metadatas=metadatas,\n",
    "                                ids=ids,\n",
    "                                index_name=index_name)"
   ]
  },
  {
   "cell_type": "code",
   "execution_count": null,
   "metadata": {
    "colab": {
     "base_uri": "https://localhost:8080/"
    },
    "id": "qbq7vO4jW7DM",
    "outputId": "7959243b-8383-4e31-d2d0-628529332250"
   },
   "outputs": [
    {
     "data": {
      "text/plain": [
       "{'dimension': 1536,\n",
       " 'index_fullness': 0.0,\n",
       " 'namespaces': {'': {'vector_count': 2342}},\n",
       " 'total_vector_count': 2342}"
      ]
     },
     "execution_count": 43,
     "metadata": {},
     "output_type": "execute_result"
    }
   ],
   "source": [
    "index.describe_index_stats()"
   ]
  },
  {
   "cell_type": "markdown",
   "metadata": {},
   "source": [
    "___\n",
    "## (6) Check using Vector Similarity Search"
   ]
  },
  {
   "cell_type": "code",
   "execution_count": null,
   "metadata": {
    "id": "sPMRZe1-1vG2"
   },
   "outputs": [],
   "source": [
    "query = \"Which guest was invited to talk about the airline industry?\"\n",
    "docs = docsearch.similarity_search(query)"
   ]
  },
  {
   "cell_type": "code",
   "execution_count": null,
   "metadata": {
    "colab": {
     "base_uri": "https://localhost:8080/"
    },
    "id": "HfxeRLw4Xa3V",
    "outputId": "3dc4e848-3111-4d93-d9d2-806b6c128c44"
   },
   "outputs": [
    {
     "name": "stdout",
     "output_type": "stream",
     "text": [
      "Shervin are excited to be talking today with Helen Li, Regional Director of Air Traffic Management and Airport Programs in China for the Boeing Company. Helen, thanks for taking the time to talk with us. Welcome. Thank you for having me. Let's get started. Helen, can you tell us about your current role at Boeing? I currently work at Boeing China in the Beijing office.\n"
     ]
    }
   ],
   "source": [
    "print(docs[0].page_content)"
   ]
  },
  {
   "cell_type": "code",
   "execution_count": null,
   "metadata": {
    "id": "CcwBwlQp_LzD"
   },
   "outputs": [],
   "source": [
    "# References\n",
    "# https://github.com/hwchase17/langchain/blob/master/langchain/vectorstores/pinecone.py"
   ]
  }
 ],
 "metadata": {
  "accelerator": "GPU",
  "colab": {
   "provenance": []
  },
  "gpuClass": "standard",
  "kernelspec": {
   "display_name": "chat_podcast_venv",
   "language": "python",
   "name": "chat_podcast_venv"
  },
  "language_info": {
   "codemirror_mode": {
    "name": "ipython",
    "version": 3
   },
   "file_extension": ".py",
   "mimetype": "text/x-python",
   "name": "python",
   "nbconvert_exporter": "python",
   "pygments_lexer": "ipython3",
   "version": "3.9.12"
  }
 },
 "nbformat": 4,
 "nbformat_minor": 1
}
